{
 "cells": [
  {
   "cell_type": "code",
   "execution_count": 2,
   "metadata": {},
   "outputs": [],
   "source": [
    "import tensorflow as tf\n",
    "import pandas as pd\n",
    "from tensorflow.keras.preprocessing.text import Tokenizer\n",
    "import numpy as np\n",
    "from tensorflow.keras.preprocessing.sequence import pad_sequences\n",
    "from tqdm import tqdm\n",
    "from tqdm import trange"
   ]
  },
  {
   "cell_type": "code",
   "execution_count": null,
   "metadata": {},
   "outputs": [],
   "source": [
    "train_df['discourse_text'].values"
   ]
  },
  {
   "cell_type": "code",
   "execution_count": null,
   "metadata": {},
   "outputs": [],
   "source": [
    "train_df = pd.read_csv(\"./input/train.csv\")\n",
    "tokenizer = Tokenizer()\n",
    "texts = [x.lower() for x in train_df['discourse_text'].values]\n",
    "tokenizer.fit_on_texts(texts)\n",
    "total_words = len(tokenizer.word_index) + 1\n",
    "# print(tokenizer.word_index)\n",
    "# print(total_words)"
   ]
  },
  {
   "cell_type": "code",
   "execution_count": 39,
   "metadata": {},
   "outputs": [
    {
     "name": "stderr",
     "output_type": "stream",
     "text": [
      "100%|██████████| 36765/36765 [01:55<00:00, 319.38it/s]\n"
     ]
    }
   ],
   "source": [
    "input_sequences = []\n",
    "\n",
    "for text in tqdm(texts):\n",
    "    # print(text)\n",
    "    token_list = tokenizer.texts_to_sequences(text)\n",
    "    # print(token_list)\n",
    "    for i in range(1,len(token_list)):\n",
    "        ngram_sequences = token_list[:i+1]\n",
    "        input_sequences.append(ngram_sequences)\n",
    "\n",
    "max_sequences_len = max([len(x) for x in input_sequences])\n",
    "\n",
    "\n",
    "        "
   ]
  },
  {
   "cell_type": "code",
   "execution_count": 5,
   "metadata": {},
   "outputs": [],
   "source": [
    "import spacy"
   ]
  },
  {
   "cell_type": "code",
   "execution_count": 6,
   "metadata": {},
   "outputs": [],
   "source": [
    "nlp = spacy.load(\"en_core_web_lg\")"
   ]
  },
  {
   "cell_type": "code",
   "execution_count": 244,
   "metadata": {},
   "outputs": [
    {
     "name": "stderr",
     "output_type": "stream",
     "text": [
      "100%|██████████| 36765/36765 [06:07<00:00, 99.97it/s] \n"
     ]
    }
   ],
   "source": [
    "texts_tensor = []\n",
    "for x in tqdm(train_df['discourse_text']):\n",
    "    texts_tensor.append(nlp(x).vector)"
   ]
  },
  {
   "cell_type": "code",
   "execution_count": 245,
   "metadata": {},
   "outputs": [],
   "source": [
    "texts_tensor = tf.reshape(texts_tensor,[36765,1,300])"
   ]
  },
  {
   "cell_type": "code",
   "execution_count": 110,
   "metadata": {},
   "outputs": [
    {
     "data": {
      "text/plain": [
       "<tf.Tensor: shape=(1, 10, 300), dtype=float32, numpy=\n",
       "array([[[-1.7310259 ,  1.2019125 , -3.6277354 , ...,  0.0363916 ,\n",
       "         -2.994872  ,  1.4502984 ],\n",
       "        [-0.8571301 ,  1.7046484 , -3.1711113 , ..., -0.6690958 ,\n",
       "         -4.5095615 ,  1.7122338 ],\n",
       "        [-0.7345443 ,  3.1622272 , -2.7153568 , ...,  0.02443947,\n",
       "         -3.869576  ,  2.00546   ],\n",
       "        ...,\n",
       "        [-3.285236  ,  0.88648003, -2.619274  , ..., -0.62785   ,\n",
       "         -2.2943168 ,  4.129184  ],\n",
       "        [-1.8806963 ,  2.1315725 , -3.1053443 , ..., -0.08605026,\n",
       "         -2.4896052 ,  2.1499102 ],\n",
       "        [-2.3043728 ,  0.34056365, -2.421952  , ..., -1.7717329 ,\n",
       "         -2.6810198 ,  0.9267128 ]]], dtype=float32)>"
      ]
     },
     "execution_count": 110,
     "metadata": {},
     "output_type": "execute_result"
    }
   ],
   "source": [
    "texts_tensor"
   ]
  },
  {
   "cell_type": "code",
   "execution_count": null,
   "metadata": {},
   "outputs": [],
   "source": [
    "for x in texts_tensor:\n",
    "    print(x.shape)\n",
    "    for y in x:\n",
    "        print(y.shape)"
   ]
  },
  {
   "cell_type": "code",
   "execution_count": 248,
   "metadata": {},
   "outputs": [],
   "source": [
    "model = tf.keras.Sequential()\n",
    "# model.add(keras.layers.Embedding(total_words, 100, input_length=max_sequences_len-1))\n",
    "model.add(tf.keras.layers.Bidirectional(tf.keras.layers.LSTM(300,return_sequences=True)))\n",
    "model.add(tf.keras.layers.Bidirectional(tf.keras.layers.LSTM(150)))\n",
    "model.add(tf.keras.layers.Dense(3, activation='softmax'))\n",
    "adam = tf.keras.optimizers.Adam(lr=0.001)\n",
    "model.compile(loss='categorical_crossentropy', optimizer=adam, metrics=['accuracy'])"
   ]
  },
  {
   "cell_type": "code",
   "execution_count": 65,
   "metadata": {},
   "outputs": [],
   "source": [
    "layers = keras.layers.Bidirectional(keras.layers.LSTM(150))"
   ]
  },
  {
   "cell_type": "code",
   "execution_count": 249,
   "metadata": {},
   "outputs": [],
   "source": [
    "labels = train_df['discourse_effectiveness']"
   ]
  },
  {
   "cell_type": "code",
   "execution_count": 250,
   "metadata": {},
   "outputs": [],
   "source": [
    "def get_label(Keys,values,features):\n",
    "    init = tf.lookup.KeyValueTensorInitializer(Keys,values)\n",
    "    table = tf.lookup.StaticHashTable(init,default_value=-1)\n",
    "    return table.lookup(tf.constant(features))"
   ]
  },
  {
   "cell_type": "code",
   "execution_count": 133,
   "metadata": {},
   "outputs": [],
   "source": [
    "TARGET = tf.constant(['Adequate', 'Effective','Ineffective'])\n",
    "\n",
    "TARGET_LABELS = tf.constant([0,1,2])\n",
    "y_train = tf.one_hot(get_label( TARGET, TARGET_LABELS, labels[:200]),3)"
   ]
  },
  {
   "cell_type": "code",
   "execution_count": 251,
   "metadata": {},
   "outputs": [],
   "source": [
    "\n",
    "y_train_batch = tf.one_hot(get_label( TARGET, TARGET_LABELS, labels),3)"
   ]
  },
  {
   "cell_type": "code",
   "execution_count": 253,
   "metadata": {},
   "outputs": [
    {
     "data": {
      "text/plain": [
       "TensorShape([36765, 3])"
      ]
     },
     "execution_count": 253,
     "metadata": {},
     "output_type": "execute_result"
    }
   ],
   "source": [
    "y_train_batch.shape"
   ]
  },
  {
   "cell_type": "code",
   "execution_count": 125,
   "metadata": {},
   "outputs": [],
   "source": [
    "y_train = tf.reshape(y_train,[10,3])"
   ]
  },
  {
   "cell_type": "code",
   "execution_count": null,
   "metadata": {},
   "outputs": [],
   "source": [
    "\n",
    "ys = tf.keras.utils.to_categorical(labels[:10], num_classes=3)"
   ]
  },
  {
   "cell_type": "code",
   "execution_count": 254,
   "metadata": {},
   "outputs": [
    {
     "data": {
      "text/plain": [
       "TensorShape([36765, 1, 300])"
      ]
     },
     "execution_count": 254,
     "metadata": {},
     "output_type": "execute_result"
    }
   ],
   "source": [
    "texts_tensor.shape"
   ]
  },
  {
   "cell_type": "code",
   "execution_count": 258,
   "metadata": {},
   "outputs": [
    {
     "data": {
      "text/plain": [
       "29412.0"
      ]
     },
     "execution_count": 258,
     "metadata": {},
     "output_type": "execute_result"
    }
   ],
   "source": [
    "36765 - 36765 * 0.2"
   ]
  },
  {
   "cell_type": "code",
   "execution_count": 259,
   "metadata": {},
   "outputs": [
    {
     "name": "stdout",
     "output_type": "stream",
     "text": [
      "Epoch 1/100\n",
      "920/920 [==============================] - 14s 15ms/step - loss: 0.8244 - accuracy: 0.6297 - val_loss: 0.8369 - val_accuracy: 0.6154\n",
      "Epoch 2/100\n",
      "920/920 [==============================] - 14s 15ms/step - loss: 0.8110 - accuracy: 0.6355 - val_loss: 0.8736 - val_accuracy: 0.6119\n",
      "Epoch 3/100\n",
      "920/920 [==============================] - 14s 15ms/step - loss: 0.8007 - accuracy: 0.6389 - val_loss: 0.8775 - val_accuracy: 0.6047\n",
      "Epoch 4/100\n",
      "920/920 [==============================] - 15s 16ms/step - loss: 0.7960 - accuracy: 0.6431 - val_loss: 0.8793 - val_accuracy: 0.6087\n",
      "Epoch 5/100\n",
      "920/920 [==============================] - 14s 15ms/step - loss: 0.7884 - accuracy: 0.6455 - val_loss: 0.8539 - val_accuracy: 0.6108\n",
      "Epoch 6/100\n",
      "920/920 [==============================] - 14s 16ms/step - loss: 0.7791 - accuracy: 0.6515 - val_loss: 0.8550 - val_accuracy: 0.6219\n",
      "Epoch 7/100\n",
      "920/920 [==============================] - 15s 16ms/step - loss: 0.7735 - accuracy: 0.6511 - val_loss: 0.8916 - val_accuracy: 0.6105\n",
      "Epoch 8/100\n",
      "920/920 [==============================] - 15s 16ms/step - loss: 0.7671 - accuracy: 0.6529 - val_loss: 0.8426 - val_accuracy: 0.6261\n",
      "Epoch 9/100\n",
      "920/920 [==============================] - 14s 16ms/step - loss: 0.7602 - accuracy: 0.6575 - val_loss: 0.8681 - val_accuracy: 0.6234\n",
      "Epoch 10/100\n",
      "920/920 [==============================] - 14s 15ms/step - loss: 0.7558 - accuracy: 0.6603 - val_loss: 0.9520 - val_accuracy: 0.5871\n",
      "Epoch 11/100\n",
      "920/920 [==============================] - 14s 16ms/step - loss: 0.7502 - accuracy: 0.6631 - val_loss: 0.8700 - val_accuracy: 0.6093\n",
      "Epoch 12/100\n",
      "920/920 [==============================] - 14s 16ms/step - loss: 0.7415 - accuracy: 0.6677 - val_loss: 0.8673 - val_accuracy: 0.6197\n",
      "Epoch 13/100\n",
      "920/920 [==============================] - 14s 16ms/step - loss: 0.7338 - accuracy: 0.6699 - val_loss: 0.9017 - val_accuracy: 0.6075\n",
      "Epoch 14/100\n",
      "920/920 [==============================] - 14s 16ms/step - loss: 0.7283 - accuracy: 0.6720 - val_loss: 0.9086 - val_accuracy: 0.6113\n",
      "Epoch 15/100\n",
      "920/920 [==============================] - 14s 16ms/step - loss: 0.7228 - accuracy: 0.6752 - val_loss: 0.9180 - val_accuracy: 0.6037\n",
      "Epoch 16/100\n",
      "920/920 [==============================] - 15s 16ms/step - loss: 0.7149 - accuracy: 0.6772 - val_loss: 0.9011 - val_accuracy: 0.6102\n",
      "Epoch 17/100\n",
      "920/920 [==============================] - 15s 16ms/step - loss: 0.7082 - accuracy: 0.6839 - val_loss: 0.8901 - val_accuracy: 0.6225\n",
      "Epoch 18/100\n",
      "920/920 [==============================] - 15s 16ms/step - loss: 0.7003 - accuracy: 0.6838 - val_loss: 0.9015 - val_accuracy: 0.6199\n",
      "Epoch 19/100\n",
      "920/920 [==============================] - 14s 16ms/step - loss: 0.6955 - accuracy: 0.6875 - val_loss: 0.9374 - val_accuracy: 0.5972\n",
      "Epoch 20/100\n",
      "920/920 [==============================] - 14s 15ms/step - loss: 0.6914 - accuracy: 0.6886 - val_loss: 0.9677 - val_accuracy: 0.5927\n",
      "Epoch 21/100\n",
      "920/920 [==============================] - 14s 15ms/step - loss: 0.6807 - accuracy: 0.6943 - val_loss: 0.9320 - val_accuracy: 0.6204\n",
      "Epoch 22/100\n",
      "920/920 [==============================] - 14s 15ms/step - loss: 0.6749 - accuracy: 0.6987 - val_loss: 0.9712 - val_accuracy: 0.6174\n",
      "Epoch 23/100\n",
      "920/920 [==============================] - 14s 15ms/step - loss: 0.6650 - accuracy: 0.7016 - val_loss: 0.9756 - val_accuracy: 0.6121\n",
      "Epoch 24/100\n",
      "920/920 [==============================] - 14s 15ms/step - loss: 0.6617 - accuracy: 0.7030 - val_loss: 0.9717 - val_accuracy: 0.6153\n",
      "Epoch 25/100\n",
      "920/920 [==============================] - 14s 15ms/step - loss: 0.6511 - accuracy: 0.7091 - val_loss: 0.9443 - val_accuracy: 0.6155\n",
      "Epoch 26/100\n",
      "920/920 [==============================] - 14s 15ms/step - loss: 0.6452 - accuracy: 0.7128 - val_loss: 1.0106 - val_accuracy: 0.5970\n",
      "Epoch 27/100\n",
      "920/920 [==============================] - 14s 15ms/step - loss: 0.6392 - accuracy: 0.7139 - val_loss: 0.9364 - val_accuracy: 0.6154\n",
      "Epoch 28/100\n",
      "920/920 [==============================] - 14s 15ms/step - loss: 0.6360 - accuracy: 0.7141 - val_loss: 1.0233 - val_accuracy: 0.5879\n",
      "Epoch 29/100\n",
      "920/920 [==============================] - 15s 16ms/step - loss: 0.6294 - accuracy: 0.7161 - val_loss: 1.1153 - val_accuracy: 0.5798\n",
      "Epoch 30/100\n",
      "920/920 [==============================] - 14s 15ms/step - loss: 0.6176 - accuracy: 0.7226 - val_loss: 1.0232 - val_accuracy: 0.5984\n",
      "Epoch 31/100\n",
      "920/920 [==============================] - 14s 15ms/step - loss: 0.6106 - accuracy: 0.7284 - val_loss: 1.0711 - val_accuracy: 0.6037\n",
      "Epoch 32/100\n",
      "920/920 [==============================] - 14s 15ms/step - loss: 0.6046 - accuracy: 0.7306 - val_loss: 1.1297 - val_accuracy: 0.6018\n",
      "Epoch 33/100\n",
      "920/920 [==============================] - 14s 15ms/step - loss: 0.5954 - accuracy: 0.7344 - val_loss: 1.1919 - val_accuracy: 0.5739\n",
      "Epoch 34/100\n",
      "920/920 [==============================] - 14s 15ms/step - loss: 0.5944 - accuracy: 0.7332 - val_loss: 1.1591 - val_accuracy: 0.5843\n",
      "Epoch 35/100\n",
      "920/920 [==============================] - 15s 16ms/step - loss: 0.5879 - accuracy: 0.7393 - val_loss: 1.1403 - val_accuracy: 0.5841\n",
      "Epoch 36/100\n",
      "920/920 [==============================] - 14s 15ms/step - loss: 0.5780 - accuracy: 0.7421 - val_loss: 1.1753 - val_accuracy: 0.5726\n",
      "Epoch 37/100\n",
      "920/920 [==============================] - 14s 15ms/step - loss: 0.5699 - accuracy: 0.7464 - val_loss: 1.1572 - val_accuracy: 0.5939\n",
      "Epoch 38/100\n",
      "920/920 [==============================] - 14s 15ms/step - loss: 0.5648 - accuracy: 0.7476 - val_loss: 1.1928 - val_accuracy: 0.5985\n",
      "Epoch 39/100\n",
      "920/920 [==============================] - 14s 16ms/step - loss: 0.5597 - accuracy: 0.7512 - val_loss: 1.1348 - val_accuracy: 0.6017\n",
      "Epoch 40/100\n",
      "920/920 [==============================] - 14s 15ms/step - loss: 0.5506 - accuracy: 0.7554 - val_loss: 1.3138 - val_accuracy: 0.5758\n",
      "Epoch 41/100\n",
      "920/920 [==============================] - 14s 16ms/step - loss: 0.5451 - accuracy: 0.7598 - val_loss: 1.2673 - val_accuracy: 0.5792\n",
      "Epoch 42/100\n",
      "920/920 [==============================] - 14s 16ms/step - loss: 0.5362 - accuracy: 0.7629 - val_loss: 1.2398 - val_accuracy: 0.5935\n",
      "Epoch 43/100\n",
      "920/920 [==============================] - 14s 15ms/step - loss: 0.5317 - accuracy: 0.7651 - val_loss: 1.3292 - val_accuracy: 0.5731\n",
      "Epoch 44/100\n",
      "920/920 [==============================] - 14s 15ms/step - loss: 0.5240 - accuracy: 0.7680 - val_loss: 1.2348 - val_accuracy: 0.5833\n",
      "Epoch 45/100\n",
      "920/920 [==============================] - 14s 15ms/step - loss: 0.5174 - accuracy: 0.7713 - val_loss: 1.2980 - val_accuracy: 0.6042\n",
      "Epoch 46/100\n",
      "920/920 [==============================] - 14s 16ms/step - loss: 0.5164 - accuracy: 0.7720 - val_loss: 1.3098 - val_accuracy: 0.5879\n",
      "Epoch 47/100\n",
      "920/920 [==============================] - 14s 15ms/step - loss: 0.5040 - accuracy: 0.7795 - val_loss: 1.3378 - val_accuracy: 0.5832\n",
      "Epoch 48/100\n",
      "920/920 [==============================] - 14s 16ms/step - loss: 0.4974 - accuracy: 0.7822 - val_loss: 1.4128 - val_accuracy: 0.5739\n",
      "Epoch 49/100\n",
      "920/920 [==============================] - 14s 16ms/step - loss: 0.4956 - accuracy: 0.7821 - val_loss: 1.4279 - val_accuracy: 0.5640\n",
      "Epoch 50/100\n",
      "920/920 [==============================] - 14s 16ms/step - loss: 0.4868 - accuracy: 0.7845 - val_loss: 1.3992 - val_accuracy: 0.5795\n",
      "Epoch 51/100\n",
      "920/920 [==============================] - 14s 15ms/step - loss: 0.4805 - accuracy: 0.7893 - val_loss: 1.3637 - val_accuracy: 0.5951\n",
      "Epoch 52/100\n",
      "920/920 [==============================] - 14s 16ms/step - loss: 0.4707 - accuracy: 0.7926 - val_loss: 1.5164 - val_accuracy: 0.5701\n",
      "Epoch 53/100\n",
      "920/920 [==============================] - 14s 16ms/step - loss: 0.4655 - accuracy: 0.7972 - val_loss: 1.5579 - val_accuracy: 0.5647\n",
      "Epoch 54/100\n",
      "920/920 [==============================] - 15s 16ms/step - loss: 0.4616 - accuracy: 0.7976 - val_loss: 1.5845 - val_accuracy: 0.5697\n",
      "Epoch 55/100\n",
      "920/920 [==============================] - 14s 16ms/step - loss: 0.4521 - accuracy: 0.8034 - val_loss: 1.5737 - val_accuracy: 0.5917\n",
      "Epoch 56/100\n",
      "920/920 [==============================] - 14s 16ms/step - loss: 0.4467 - accuracy: 0.8061 - val_loss: 1.5948 - val_accuracy: 0.5814\n",
      "Epoch 57/100\n",
      "920/920 [==============================] - 14s 16ms/step - loss: 0.4401 - accuracy: 0.8057 - val_loss: 1.7063 - val_accuracy: 0.5447\n",
      "Epoch 58/100\n",
      "920/920 [==============================] - 14s 16ms/step - loss: 0.4365 - accuracy: 0.8098 - val_loss: 1.5134 - val_accuracy: 0.5913\n",
      "Epoch 59/100\n",
      "920/920 [==============================] - 14s 16ms/step - loss: 0.4319 - accuracy: 0.8122 - val_loss: 1.6197 - val_accuracy: 0.5974\n",
      "Epoch 60/100\n",
      "920/920 [==============================] - 14s 16ms/step - loss: 0.4225 - accuracy: 0.8165 - val_loss: 1.6175 - val_accuracy: 0.5742\n",
      "Epoch 61/100\n",
      "920/920 [==============================] - 15s 16ms/step - loss: 0.4160 - accuracy: 0.8193 - val_loss: 1.5751 - val_accuracy: 0.5849\n",
      "Epoch 62/100\n",
      "920/920 [==============================] - 15s 16ms/step - loss: 0.4057 - accuracy: 0.8254 - val_loss: 1.7461 - val_accuracy: 0.5698\n",
      "Epoch 63/100\n",
      "920/920 [==============================] - 14s 16ms/step - loss: 0.3991 - accuracy: 0.8255 - val_loss: 1.6489 - val_accuracy: 0.5724\n",
      "Epoch 64/100\n",
      "920/920 [==============================] - 14s 16ms/step - loss: 0.4007 - accuracy: 0.8283 - val_loss: 1.8084 - val_accuracy: 0.5727\n",
      "Epoch 65/100\n",
      "920/920 [==============================] - 15s 16ms/step - loss: 0.3926 - accuracy: 0.8300 - val_loss: 1.7604 - val_accuracy: 0.5727\n",
      "Epoch 66/100\n",
      "920/920 [==============================] - 15s 16ms/step - loss: 0.3837 - accuracy: 0.8350 - val_loss: 1.7944 - val_accuracy: 0.5611\n",
      "Epoch 67/100\n",
      "920/920 [==============================] - 15s 16ms/step - loss: 0.3772 - accuracy: 0.8388 - val_loss: 1.7256 - val_accuracy: 0.5538\n",
      "Epoch 68/100\n",
      "920/920 [==============================] - 15s 16ms/step - loss: 0.3735 - accuracy: 0.8387 - val_loss: 2.0132 - val_accuracy: 0.5415\n",
      "Epoch 69/100\n",
      "920/920 [==============================] - 15s 16ms/step - loss: 0.3673 - accuracy: 0.8427 - val_loss: 1.9289 - val_accuracy: 0.5621\n",
      "Epoch 70/100\n",
      "920/920 [==============================] - 15s 16ms/step - loss: 0.3643 - accuracy: 0.8465 - val_loss: 1.7945 - val_accuracy: 0.5806\n",
      "Epoch 71/100\n",
      "920/920 [==============================] - 15s 16ms/step - loss: 0.3642 - accuracy: 0.8448 - val_loss: 1.8491 - val_accuracy: 0.5751\n",
      "Epoch 72/100\n",
      "920/920 [==============================] - 15s 16ms/step - loss: 0.3500 - accuracy: 0.8505 - val_loss: 1.9861 - val_accuracy: 0.5687\n",
      "Epoch 73/100\n",
      "920/920 [==============================] - 15s 16ms/step - loss: 0.3440 - accuracy: 0.8522 - val_loss: 1.9736 - val_accuracy: 0.5498\n",
      "Epoch 74/100\n",
      "920/920 [==============================] - 15s 16ms/step - loss: 0.3317 - accuracy: 0.8586 - val_loss: 2.0008 - val_accuracy: 0.5726\n",
      "Epoch 75/100\n",
      "920/920 [==============================] - 15s 16ms/step - loss: 0.3309 - accuracy: 0.8583 - val_loss: 2.0046 - val_accuracy: 0.5519\n",
      "Epoch 76/100\n",
      "920/920 [==============================] - 15s 16ms/step - loss: 0.3278 - accuracy: 0.8613 - val_loss: 1.9926 - val_accuracy: 0.5713\n",
      "Epoch 77/100\n",
      "920/920 [==============================] - 15s 16ms/step - loss: 0.3259 - accuracy: 0.8619 - val_loss: 1.9348 - val_accuracy: 0.5640\n",
      "Epoch 78/100\n",
      "920/920 [==============================] - 15s 16ms/step - loss: 0.3304 - accuracy: 0.8599 - val_loss: 1.9446 - val_accuracy: 0.5550\n",
      "Epoch 79/100\n",
      "920/920 [==============================] - 15s 17ms/step - loss: 0.3124 - accuracy: 0.8674 - val_loss: 2.1413 - val_accuracy: 0.5760\n",
      "Epoch 80/100\n",
      "920/920 [==============================] - 15s 16ms/step - loss: 0.3004 - accuracy: 0.8723 - val_loss: 2.2313 - val_accuracy: 0.5523\n",
      "Epoch 81/100\n",
      "920/920 [==============================] - 15s 16ms/step - loss: 0.3066 - accuracy: 0.8702 - val_loss: 1.9985 - val_accuracy: 0.5704\n",
      "Epoch 82/100\n",
      "920/920 [==============================] - 15s 16ms/step - loss: 0.2917 - accuracy: 0.8779 - val_loss: 2.1665 - val_accuracy: 0.5659\n",
      "Epoch 83/100\n",
      "920/920 [==============================] - 15s 16ms/step - loss: 0.2888 - accuracy: 0.8803 - val_loss: 2.2127 - val_accuracy: 0.5326\n",
      "Epoch 84/100\n",
      "920/920 [==============================] - 15s 16ms/step - loss: 0.2925 - accuracy: 0.8772 - val_loss: 2.1192 - val_accuracy: 0.5655\n",
      "Epoch 85/100\n",
      "920/920 [==============================] - 15s 16ms/step - loss: 0.2802 - accuracy: 0.8828 - val_loss: 2.2165 - val_accuracy: 0.5289\n",
      "Epoch 86/100\n",
      "920/920 [==============================] - 15s 16ms/step - loss: 0.2735 - accuracy: 0.8859 - val_loss: 2.2220 - val_accuracy: 0.5732\n",
      "Epoch 87/100\n",
      "920/920 [==============================] - 15s 16ms/step - loss: 0.2751 - accuracy: 0.8844 - val_loss: 2.3148 - val_accuracy: 0.5522\n",
      "Epoch 88/100\n",
      "920/920 [==============================] - 15s 17ms/step - loss: 0.2663 - accuracy: 0.8910 - val_loss: 2.3968 - val_accuracy: 0.5486\n",
      "Epoch 89/100\n",
      "920/920 [==============================] - 15s 17ms/step - loss: 0.2597 - accuracy: 0.8933 - val_loss: 2.4288 - val_accuracy: 0.5606\n",
      "Epoch 90/100\n",
      "920/920 [==============================] - 15s 17ms/step - loss: 0.2613 - accuracy: 0.8900 - val_loss: 2.3314 - val_accuracy: 0.5338\n",
      "Epoch 91/100\n",
      "920/920 [==============================] - 16s 17ms/step - loss: 0.2637 - accuracy: 0.8910 - val_loss: 2.2785 - val_accuracy: 0.5618\n",
      "Epoch 92/100\n",
      "920/920 [==============================] - 15s 17ms/step - loss: 0.2496 - accuracy: 0.8970 - val_loss: 2.4125 - val_accuracy: 0.5681\n",
      "Epoch 93/100\n",
      "920/920 [==============================] - 15s 17ms/step - loss: 0.2421 - accuracy: 0.9011 - val_loss: 2.5041 - val_accuracy: 0.5433\n",
      "Epoch 94/100\n",
      "920/920 [==============================] - 15s 17ms/step - loss: 0.2429 - accuracy: 0.8995 - val_loss: 2.4642 - val_accuracy: 0.5498\n",
      "Epoch 95/100\n",
      "920/920 [==============================] - 15s 17ms/step - loss: 0.2387 - accuracy: 0.9021 - val_loss: 2.6789 - val_accuracy: 0.5095\n",
      "Epoch 96/100\n",
      "920/920 [==============================] - 15s 17ms/step - loss: 0.2392 - accuracy: 0.9028 - val_loss: 2.5301 - val_accuracy: 0.5481\n",
      "Epoch 97/100\n",
      "920/920 [==============================] - 15s 17ms/step - loss: 0.2315 - accuracy: 0.9049 - val_loss: 2.5747 - val_accuracy: 0.5603\n",
      "Epoch 98/100\n",
      "920/920 [==============================] - 15s 17ms/step - loss: 0.2262 - accuracy: 0.9083 - val_loss: 2.5172 - val_accuracy: 0.5387\n",
      "Epoch 99/100\n",
      "920/920 [==============================] - 15s 17ms/step - loss: 0.2225 - accuracy: 0.9099 - val_loss: 2.5411 - val_accuracy: 0.5380\n",
      "Epoch 100/100\n",
      "920/920 [==============================] - 15s 17ms/step - loss: 0.2096 - accuracy: 0.9155 - val_loss: 2.6087 - val_accuracy: 0.5551\n"
     ]
    },
    {
     "data": {
      "text/plain": [
       "<keras.callbacks.History at 0x16b4ee5c8b0>"
      ]
     },
     "execution_count": 259,
     "metadata": {},
     "output_type": "execute_result"
    }
   ],
   "source": [
    "# layers(tf.reshape(text_1,[1,1,300]))\n",
    "model.fit(texts_tensor[:29412],y_train_batch[:29412],epochs=100,verbose=1,validation_data=(texts_tensor[29412:],y_train_batch[29412:]))"
   ]
  },
  {
   "cell_type": "code",
   "execution_count": 67,
   "metadata": {},
   "outputs": [
    {
     "data": {
      "text/plain": [
       "TensorShape([200, 3])"
      ]
     },
     "execution_count": 67,
     "metadata": {},
     "output_type": "execute_result"
    }
   ],
   "source": [
    "y_train.shape"
   ]
  },
  {
   "cell_type": "code",
   "execution_count": 135,
   "metadata": {},
   "outputs": [],
   "source": [
    "text_batches = tf.data.Dataset.from_tensor_slices(texts_tensor).batch(32)\n",
    "y_batches = tf.data.Dataset.from_tensor_slices(y_train).batch(32)"
   ]
  },
  {
   "cell_type": "code",
   "execution_count": 242,
   "metadata": {},
   "outputs": [],
   "source": [
    "def get_vector(X_b):\n",
    "    # print((X_b)))\n",
    "    print(X_b.apply(lambda x : x))\n",
    "    # X_b.map(lambda x : nlp(str(x).vector))\n",
    "    # return nlp.(X_b).vector"
   ]
  },
  {
   "cell_type": "code",
   "execution_count": 149,
   "metadata": {},
   "outputs": [],
   "source": [
    "train_batches = tf.data.Dataset.from_tensor_slices(train_df['discourse_text'].values).batch(32)\n",
    "train_y_batches = tf.data.Dataset.from_tensor_slices(y_train_batch).batch(32)"
   ]
  },
  {
   "cell_type": "code",
   "execution_count": 151,
   "metadata": {},
   "outputs": [],
   "source": [
    "dataset_batch = tf.data.Dataset.zip((train_batches,train_y_batches))"
   ]
  },
  {
   "cell_type": "code",
   "execution_count": 228,
   "metadata": {},
   "outputs": [
    {
     "data": {
      "text/plain": [
       "<TakeDataset element_spec=TensorSpec(shape=(None,), dtype=tf.string, name=None)>"
      ]
     },
     "execution_count": 228,
     "metadata": {},
     "output_type": "execute_result"
    }
   ],
   "source": [
    "train_batches.take(1)"
   ]
  },
  {
   "cell_type": "code",
   "execution_count": 243,
   "metadata": {},
   "outputs": [
    {
     "name": "stdout",
     "output_type": "stream",
     "text": [
      "<BatchDataset element_spec=TensorSpec(shape=(None, None), dtype=tf.string, name=None)>\n"
     ]
    },
    {
     "ename": "TypeError",
     "evalue": "`transformation_func` must return a `tf.data.Dataset` object. Got <class 'NoneType'>.",
     "output_type": "error",
     "traceback": [
      "\u001b[1;31m---------------------------------------------------------------------------\u001b[0m",
      "\u001b[1;31mTypeError\u001b[0m                                 Traceback (most recent call last)",
      "\u001b[1;32mc:\\Automation\\python\\nlp_feedback_predict\\NLP_Classifier.ipynb Cell 28\u001b[0m in \u001b[0;36m<cell line: 1>\u001b[1;34m()\u001b[0m\n\u001b[1;32m----> <a href='vscode-notebook-cell:/c%3A/Automation/python/nlp_feedback_predict/NLP_Classifier.ipynb#ch0000040?line=0'>1</a>\u001b[0m train_batches\u001b[39m.\u001b[39;49mbatch(\u001b[39m32\u001b[39;49m)\u001b[39m.\u001b[39;49mapply(get_vector)\n",
      "File \u001b[1;32m~\\AppData\\Roaming\\Python\\Python310\\site-packages\\tensorflow\\python\\data\\ops\\dataset_ops.py:2272\u001b[0m, in \u001b[0;36mDatasetV2.apply\u001b[1;34m(self, transformation_func)\u001b[0m\n\u001b[0;32m   2270\u001b[0m dataset \u001b[39m=\u001b[39m transformation_func(\u001b[39mself\u001b[39m)\n\u001b[0;32m   2271\u001b[0m \u001b[39mif\u001b[39;00m \u001b[39mnot\u001b[39;00m \u001b[39misinstance\u001b[39m(dataset, DatasetV2):\n\u001b[1;32m-> 2272\u001b[0m   \u001b[39mraise\u001b[39;00m \u001b[39mTypeError\u001b[39;00m(\n\u001b[0;32m   2273\u001b[0m       \u001b[39mf\u001b[39m\u001b[39m\"\u001b[39m\u001b[39m`transformation_func` must return a `tf.data.Dataset` object. \u001b[39m\u001b[39m\"\u001b[39m\n\u001b[0;32m   2274\u001b[0m       \u001b[39mf\u001b[39m\u001b[39m\"\u001b[39m\u001b[39mGot \u001b[39m\u001b[39m{\u001b[39;00m\u001b[39mtype\u001b[39m(dataset)\u001b[39m}\u001b[39;00m\u001b[39m.\u001b[39m\u001b[39m\"\u001b[39m)\n\u001b[0;32m   2275\u001b[0m dataset\u001b[39m.\u001b[39m_input_datasets \u001b[39m=\u001b[39m [\u001b[39mself\u001b[39m]  \u001b[39m# pylint: disable=protected-access\u001b[39;00m\n\u001b[0;32m   2276\u001b[0m \u001b[39mreturn\u001b[39;00m dataset\n",
      "\u001b[1;31mTypeError\u001b[0m: `transformation_func` must return a `tf.data.Dataset` object. Got <class 'NoneType'>."
     ]
    }
   ],
   "source": [
    "train_batches.batch(32).apply(get_vector)\n",
    "# list(dataset_batch.take(1).as_numpy_iterator())"
   ]
  },
  {
   "cell_type": "code",
   "execution_count": 136,
   "metadata": {},
   "outputs": [],
   "source": [
    "data_set = tf.data.Dataset.zip( (text_batches , y_batches) )"
   ]
  },
  {
   "cell_type": "code",
   "execution_count": null,
   "metadata": {},
   "outputs": [],
   "source": [
    "for x_batch, y_batch in data_set.batch(10):\n",
    "    for x in x_batch:\n",
    "        for y in x:\n",
    "            print(y.shape)\n"
   ]
  },
  {
   "cell_type": "code",
   "execution_count": 207,
   "metadata": {},
   "outputs": [],
   "source": [
    "inputs = tf.random.normal([32, 10, 8])"
   ]
  },
  {
   "cell_type": "code",
   "execution_count": 55,
   "metadata": {},
   "outputs": [
    {
     "data": {
      "text/plain": [
       "<ZipDataset element_spec=(TensorSpec(shape=(None, 2, 300), dtype=tf.float32, name=None), TensorSpec(shape=(None, 3), dtype=tf.float32, name=None))>"
      ]
     },
     "execution_count": 55,
     "metadata": {},
     "output_type": "execute_result"
    }
   ],
   "source": [
    "data_set"
   ]
  },
  {
   "cell_type": "code",
   "execution_count": 269,
   "metadata": {},
   "outputs": [
    {
     "data": {
      "image/png": "[encoded data removed]",
      "text/plain": [
       "<Figure size 432x288 with 1 Axes>"
      ]
     },
     "metadata": {},
     "output_type": "display_data"
    }
   ],
   "source": [
    "import matplotlib.pyplot as plt\n",
    "plt.plot(model.history.history['loss'])\n",
    "# plt.plot(model.history.history['accuracy'])\n",
    "# plt.plot(model.history.history['val_accuracy'])\n",
    "plt.plot(model.history.history['val_loss'])\n",
    "plt.show()"
   ]
  },
  {
   "cell_type": "code",
   "execution_count": 270,
   "metadata": {},
   "outputs": [],
   "source": [
    "test_df = pd.read_csv(\"./input/test.csv\")"
   ]
  },
  {
   "cell_type": "code",
   "execution_count": 274,
   "metadata": {},
   "outputs": [
    {
     "data": {
      "text/plain": [
       "(10,)"
      ]
     },
     "execution_count": 274,
     "metadata": {},
     "output_type": "execute_result"
    }
   ],
   "source": [
    "test_df['discourse_text'].shape"
   ]
  },
  {
   "cell_type": "code",
   "execution_count": 272,
   "metadata": {},
   "outputs": [
    {
     "name": "stderr",
     "output_type": "stream",
     "text": [
      "100%|██████████| 10/10 [00:00<00:00, 102.96it/s]\n"
     ]
    }
   ],
   "source": [
    "test_tensor = []\n",
    "for x in tqdm(test_df['discourse_text']):\n",
    "    test_tensor.append(nlp(x).vector)"
   ]
  },
  {
   "cell_type": "code",
   "execution_count": 277,
   "metadata": {},
   "outputs": [
    {
     "ename": "SyntaxError",
     "evalue": "unmatched ')' (260402360.py, line 1)",
     "output_type": "error",
     "traceback": [
      "\u001b[1;36m  Input \u001b[1;32mIn [277]\u001b[1;36m\u001b[0m\n\u001b[1;33m    test_tensor = tf.reshape(test_tensor,[10,1,300]))\u001b[0m\n\u001b[1;37m                                                    ^\u001b[0m\n\u001b[1;31mSyntaxError\u001b[0m\u001b[1;31m:\u001b[0m unmatched ')'\n"
     ]
    }
   ],
   "source": [
    "test_tensor = tf.reshape(test_tensor,[10,1,300])"
   ]
  },
  {
   "cell_type": "code",
   "execution_count": 273,
   "metadata": {},
   "outputs": [
    {
     "name": "stdout",
     "output_type": "stream",
     "text": [
      "WARNING:tensorflow:Layers in a Sequential model should only have a single input tensor. Received: inputs=(<tf.Tensor 'IteratorGetNext:0' shape=(None,) dtype=float32>, <tf.Tensor 'IteratorGetNext:1' shape=(None,) dtype=float32>, <tf.Tensor 'IteratorGetNext:2' shape=(None,) dtype=float32>, <tf.Tensor 'IteratorGetNext:3' shape=(None,) dtype=float32>, <tf.Tensor 'IteratorGetNext:4' shape=(None,) dtype=float32>, <tf.Tensor 'IteratorGetNext:5' shape=(None,) dtype=float32>, <tf.Tensor 'IteratorGetNext:6' shape=(None,) dtype=float32>, <tf.Tensor 'IteratorGetNext:7' shape=(None,) dtype=float32>, <tf.Tensor 'IteratorGetNext:8' shape=(None,) dtype=float32>, <tf.Tensor 'IteratorGetNext:9' shape=(None,) dtype=float32>). Consider rewriting this model with the Functional API.\n",
      "WARNING:tensorflow:Model was constructed with shape (None, 1, 300) for input KerasTensor(type_spec=TensorSpec(shape=(None, 1, 300), dtype=tf.float32, name='bidirectional_16_input'), name='bidirectional_16_input', description=\"created by layer 'bidirectional_16_input'\"), but it was called on an input with incompatible shape (None,).\n"
     ]
    },
    {
     "ename": "ValueError",
     "evalue": "in user code:\n\n    File \"C:\\Users\\barka\\AppData\\Roaming\\Python\\Python310\\site-packages\\keras\\engine\\training.py\", line 1845, in predict_function  *\n        return step_function(self, iterator)\n    File \"C:\\Users\\barka\\AppData\\Roaming\\Python\\Python310\\site-packages\\keras\\engine\\training.py\", line 1834, in step_function  **\n        outputs = model.distribute_strategy.run(run_step, args=(data,))\n    File \"C:\\Users\\barka\\AppData\\Roaming\\Python\\Python310\\site-packages\\keras\\engine\\training.py\", line 1823, in run_step  **\n        outputs = model.predict_step(data)\n    File \"C:\\Users\\barka\\AppData\\Roaming\\Python\\Python310\\site-packages\\keras\\engine\\training.py\", line 1791, in predict_step\n        return self(x, training=False)\n    File \"C:\\Users\\barka\\AppData\\Roaming\\Python\\Python310\\site-packages\\keras\\utils\\traceback_utils.py\", line 67, in error_handler\n        raise e.with_traceback(filtered_tb) from None\n    File \"C:\\Users\\barka\\AppData\\Roaming\\Python\\Python310\\site-packages\\keras\\engine\\input_spec.py\", line 214, in assert_input_compatibility\n        raise ValueError(f'Input {input_index} of layer \"{layer_name}\" '\n\n    ValueError: Exception encountered when calling layer \"sequential_9\" (type Sequential).\n    \n    Input 0 of layer \"bidirectional_16\" is incompatible with the layer: expected ndim=3, found ndim=1. Full shape received: (None,)\n    \n    Call arguments received by layer \"sequential_9\" (type Sequential):\n      • inputs=('tf.Tensor(shape=(None,), dtype=float32)', 'tf.Tensor(shape=(None,), dtype=float32)', 'tf.Tensor(shape=(None,), dtype=float32)', 'tf.Tensor(shape=(None,), dtype=float32)', 'tf.Tensor(shape=(None,), dtype=float32)', 'tf.Tensor(shape=(None,), dtype=float32)', 'tf.Tensor(shape=(None,), dtype=float32)', 'tf.Tensor(shape=(None,), dtype=float32)', 'tf.Tensor(shape=(None,), dtype=float32)', 'tf.Tensor(shape=(None,), dtype=float32)')\n      • training=False\n      • mask=None\n",
     "output_type": "error",
     "traceback": [
      "\u001b[1;31m---------------------------------------------------------------------------\u001b[0m",
      "\u001b[1;31mValueError\u001b[0m                                Traceback (most recent call last)",
      "\u001b[1;32mc:\\Automation\\python\\nlp_feedback_predict\\NLP_Classifier.ipynb Cell 37\u001b[0m in \u001b[0;36m<cell line: 1>\u001b[1;34m()\u001b[0m\n\u001b[1;32m----> <a href='vscode-notebook-cell:/c%3A/Automation/python/nlp_feedback_predict/NLP_Classifier.ipynb#ch0000046?line=0'>1</a>\u001b[0m pred \u001b[39m=\u001b[39m model\u001b[39m.\u001b[39;49mpredict(test_tensor)\n",
      "File \u001b[1;32m~\\AppData\\Roaming\\Python\\Python310\\site-packages\\keras\\utils\\traceback_utils.py:67\u001b[0m, in \u001b[0;36mfilter_traceback.<locals>.error_handler\u001b[1;34m(*args, **kwargs)\u001b[0m\n\u001b[0;32m     65\u001b[0m \u001b[39mexcept\u001b[39;00m \u001b[39mException\u001b[39;00m \u001b[39mas\u001b[39;00m e:  \u001b[39m# pylint: disable=broad-except\u001b[39;00m\n\u001b[0;32m     66\u001b[0m   filtered_tb \u001b[39m=\u001b[39m _process_traceback_frames(e\u001b[39m.\u001b[39m__traceback__)\n\u001b[1;32m---> 67\u001b[0m   \u001b[39mraise\u001b[39;00m e\u001b[39m.\u001b[39mwith_traceback(filtered_tb) \u001b[39mfrom\u001b[39;00m \u001b[39mNone\u001b[39m\n\u001b[0;32m     68\u001b[0m \u001b[39mfinally\u001b[39;00m:\n\u001b[0;32m     69\u001b[0m   \u001b[39mdel\u001b[39;00m filtered_tb\n",
      "File \u001b[1;32m~\\AppData\\Local\\Temp\\__autograph_generated_filetktclvji.py:15\u001b[0m, in \u001b[0;36mouter_factory.<locals>.inner_factory.<locals>.tf__predict_function\u001b[1;34m(iterator)\u001b[0m\n\u001b[0;32m     13\u001b[0m \u001b[39mtry\u001b[39;00m:\n\u001b[0;32m     14\u001b[0m     do_return \u001b[39m=\u001b[39m \u001b[39mTrue\u001b[39;00m\n\u001b[1;32m---> 15\u001b[0m     retval_ \u001b[39m=\u001b[39m ag__\u001b[39m.\u001b[39mconverted_call(ag__\u001b[39m.\u001b[39mld(step_function), (ag__\u001b[39m.\u001b[39mld(\u001b[39mself\u001b[39m), ag__\u001b[39m.\u001b[39mld(iterator)), \u001b[39mNone\u001b[39;00m, fscope)\n\u001b[0;32m     16\u001b[0m \u001b[39mexcept\u001b[39;00m:\n\u001b[0;32m     17\u001b[0m     do_return \u001b[39m=\u001b[39m \u001b[39mFalse\u001b[39;00m\n",
      "\u001b[1;31mValueError\u001b[0m: in user code:\n\n    File \"C:\\Users\\barka\\AppData\\Roaming\\Python\\Python310\\site-packages\\keras\\engine\\training.py\", line 1845, in predict_function  *\n        return step_function(self, iterator)\n    File \"C:\\Users\\barka\\AppData\\Roaming\\Python\\Python310\\site-packages\\keras\\engine\\training.py\", line 1834, in step_function  **\n        outputs = model.distribute_strategy.run(run_step, args=(data,))\n    File \"C:\\Users\\barka\\AppData\\Roaming\\Python\\Python310\\site-packages\\keras\\engine\\training.py\", line 1823, in run_step  **\n        outputs = model.predict_step(data)\n    File \"C:\\Users\\barka\\AppData\\Roaming\\Python\\Python310\\site-packages\\keras\\engine\\training.py\", line 1791, in predict_step\n        return self(x, training=False)\n    File \"C:\\Users\\barka\\AppData\\Roaming\\Python\\Python310\\site-packages\\keras\\utils\\traceback_utils.py\", line 67, in error_handler\n        raise e.with_traceback(filtered_tb) from None\n    File \"C:\\Users\\barka\\AppData\\Roaming\\Python\\Python310\\site-packages\\keras\\engine\\input_spec.py\", line 214, in assert_input_compatibility\n        raise ValueError(f'Input {input_index} of layer \"{layer_name}\" '\n\n    ValueError: Exception encountered when calling layer \"sequential_9\" (type Sequential).\n    \n    Input 0 of layer \"bidirectional_16\" is incompatible with the layer: expected ndim=3, found ndim=1. Full shape received: (None,)\n    \n    Call arguments received by layer \"sequential_9\" (type Sequential):\n      • inputs=('tf.Tensor(shape=(None,), dtype=float32)', 'tf.Tensor(shape=(None,), dtype=float32)', 'tf.Tensor(shape=(None,), dtype=float32)', 'tf.Tensor(shape=(None,), dtype=float32)', 'tf.Tensor(shape=(None,), dtype=float32)', 'tf.Tensor(shape=(None,), dtype=float32)', 'tf.Tensor(shape=(None,), dtype=float32)', 'tf.Tensor(shape=(None,), dtype=float32)', 'tf.Tensor(shape=(None,), dtype=float32)', 'tf.Tensor(shape=(None,), dtype=float32)')\n      • training=False\n      • mask=None\n"
     ]
    }
   ],
   "source": [
    "pred = model.predict(test_tensor)"
   ]
  }
 ],
 "metadata": {
  "kernelspec": {
   "display_name": "Python 3.10.5 64-bit",
   "language": "python",
   "name": "python3"
  },
  "language_info": {
   "codemirror_mode": {
    "name": "ipython",
    "version": 3
   },
   "file_extension": ".py",
   "mimetype": "text/x-python",
   "name": "python",
   "nbconvert_exporter": "python",
   "pygments_lexer": "ipython3",
   "version": "3.10.5"
  },
  "orig_nbformat": 4,
  "vscode": {
   "interpreter": {
    "hash": "ccc9907020a360c0774b7240d7189d7caac06a5804f44f1a6c385a36278d3a41"
   }
  }
 },
 "nbformat": 4,
 "nbformat_minor": 2
}
