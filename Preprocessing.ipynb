{
 "cells": [
  {
   "cell_type": "code",
   "execution_count": null,
   "metadata": {},
   "outputs": [],
   "source": [
    "! pip install spacy"
   ]
  },
  {
   "cell_type": "code",
   "execution_count": 3,
   "metadata": {},
   "outputs": [
    {
     "name": "stdout",
     "output_type": "stream",
     "text": [
      "Note: you may need to restart the kernel to use updated packages.\n"
     ]
    }
   ],
   "source": [
    "pip install -q -U \"tensorflow-text"
   ]
  },
  {
   "cell_type": "code",
   "execution_count": 18,
   "metadata": {},
   "outputs": [],
   "source": [
    "import pandas as pd\n",
    "import spacy\n",
    "import tensorflow as tf\n",
    "import tensorflow_text as text\n",
    "import tensorflow_hub as hub\n",
    "from tqdm import tqdm\n",
    "from spacy import displacy"
   ]
  },
  {
   "cell_type": "code",
   "execution_count": 2,
   "metadata": {},
   "outputs": [],
   "source": [
    "train_df = pd.read_csv(\"./input/train.csv\")"
   ]
  },
  {
   "cell_type": "markdown",
   "metadata": {},
   "source": [
    "## Preprocessing data using Spacy \n",
    "\n",
    "To use \"en_core_web_lg\" nlp package please run this command in your terminal , else error will throw\n",
    "* python -m spacy download en_core_web_lg"
   ]
  },
  {
   "cell_type": "code",
   "execution_count": 44,
   "metadata": {},
   "outputs": [],
   "source": [
    "nlp = spacy.load('en_core_web_lg')\n",
    "doc = nlp(train_df['discourse_text'][0]) # first text from the dataframe"
   ]
  },
  {
   "cell_type": "code",
   "execution_count": 45,
   "metadata": {},
   "outputs": [
    {
     "data": {
      "text/html": [
       "<span class=\"tex2jax_ignore\"><div class=\"entities\" style=\"line-height: 2.5; direction: ltr\">Hi, i'm Isaac, i'm going to be writing about how this face on \n",
       "<mark class=\"entity\" style=\"background: #ff9561; padding: 0.45em 0.6em; margin: 0 0.25em; line-height: 1; border-radius: 0.35em;\">\n",
       "    Mars\n",
       "    <span style=\"font-size: 0.8em; font-weight: bold; line-height: 1; border-radius: 0.35em; vertical-align: middle; margin-left: 0.5rem\">LOC</span>\n",
       "</mark>\n",
       " is a natural landform or if there is life on \n",
       "<mark class=\"entity\" style=\"background: #ff9561; padding: 0.45em 0.6em; margin: 0 0.25em; line-height: 1; border-radius: 0.35em;\">\n",
       "    Mars\n",
       "    <span style=\"font-size: 0.8em; font-weight: bold; line-height: 1; border-radius: 0.35em; vertical-align: middle; margin-left: 0.5rem\">LOC</span>\n",
       "</mark>\n",
       " that made it. The story is about how \n",
       "<mark class=\"entity\" style=\"background: #7aecec; padding: 0.45em 0.6em; margin: 0 0.25em; line-height: 1; border-radius: 0.35em;\">\n",
       "    NASA\n",
       "    <span style=\"font-size: 0.8em; font-weight: bold; line-height: 1; border-radius: 0.35em; vertical-align: middle; margin-left: 0.5rem\">ORG</span>\n",
       "</mark>\n",
       " took a picture of \n",
       "<mark class=\"entity\" style=\"background: #ff9561; padding: 0.45em 0.6em; margin: 0 0.25em; line-height: 1; border-radius: 0.35em;\">\n",
       "    Mars\n",
       "    <span style=\"font-size: 0.8em; font-weight: bold; line-height: 1; border-radius: 0.35em; vertical-align: middle; margin-left: 0.5rem\">LOC</span>\n",
       "</mark>\n",
       " and a face was seen on the planet. \n",
       "<mark class=\"entity\" style=\"background: #7aecec; padding: 0.45em 0.6em; margin: 0 0.25em; line-height: 1; border-radius: 0.35em;\">\n",
       "    NASA\n",
       "    <span style=\"font-size: 0.8em; font-weight: bold; line-height: 1; border-radius: 0.35em; vertical-align: middle; margin-left: 0.5rem\">ORG</span>\n",
       "</mark>\n",
       " doesn't know if the landform was created by life on \n",
       "<mark class=\"entity\" style=\"background: #ff9561; padding: 0.45em 0.6em; margin: 0 0.25em; line-height: 1; border-radius: 0.35em;\">\n",
       "    Mars\n",
       "    <span style=\"font-size: 0.8em; font-weight: bold; line-height: 1; border-radius: 0.35em; vertical-align: middle; margin-left: 0.5rem\">LOC</span>\n",
       "</mark>\n",
       ", or if it is just a natural landform. </div></span>"
      ],
      "text/plain": [
       "<IPython.core.display.HTML object>"
      ]
     },
     "metadata": {},
     "output_type": "display_data"
    }
   ],
   "source": [
    "\"\"\"\n",
    "displacy is to render the text in the notebook by specific terms\n",
    "ent = will display all the entities are there in a text\n",
    "dep = will display graph based ytantic dependeices and will display parts of speech \n",
    "\"\"\"\n",
    "displacy.render(doc, style=\"ent\") "
   ]
  },
  {
   "cell_type": "code",
   "execution_count": 50,
   "metadata": {},
   "outputs": [
    {
     "data": {
      "text/plain": [
       "[[Hi, 'INTJ', 'hi'],\n",
       " [,, 'PUNCT', ','],\n",
       " [i, 'PRON', 'I'],\n",
       " ['m, 'AUX', 'be'],\n",
       " [Isaac, 'PROPN', 'Isaac'],\n",
       " [,, 'PUNCT', ','],\n",
       " [i, 'PRON', 'I'],\n",
       " ['m, 'AUX', 'be'],\n",
       " [going, 'VERB', 'go'],\n",
       " [to, 'PART', 'to']]"
      ]
     },
     "execution_count": 50,
     "metadata": {},
     "output_type": "execute_result"
    }
   ],
   "source": [
    "#Parts of speech of the text - text.pos_\n",
    "# Lemma will return the base of the word - text.lemma_\n",
    "pos_list = []\n",
    "for text in doc[0:10]:\n",
    "    pos_list.append([text , text.pos_ , text.lemma_])\n",
    "pos_list"
   ]
  },
  {
   "cell_type": "code",
   "execution_count": 51,
   "metadata": {},
   "outputs": [
    {
     "data": {
      "text/plain": [
       "['tok2vec', 'tagger', 'parser', 'attribute_ruler', 'lemmatizer', 'ner']"
      ]
     },
     "execution_count": 51,
     "metadata": {},
     "output_type": "execute_result"
    }
   ],
   "source": [
    "nlp.pipe_names"
   ]
  },
  {
   "cell_type": "code",
   "execution_count": null,
   "metadata": {},
   "outputs": [],
   "source": [
    "nlp.enable_pipe('sentencizer')"
   ]
  },
  {
   "cell_type": "code",
   "execution_count": 156,
   "metadata": {},
   "outputs": [
    {
     "data": {
      "text/html": [
       "<span class=\"tex2jax_ignore\"><div class=\"entities\" style=\"line-height: 2.5; direction: ltr\">Hi, i'm Isaac, i'm going to be writing about how this face on \n",
       "<mark class=\"entity\" style=\"background: #ff9561; padding: 0.45em 0.6em; margin: 0 0.25em; line-height: 1; border-radius: 0.35em;\">\n",
       "    Mars\n",
       "    <span style=\"font-size: 0.8em; font-weight: bold; line-height: 1; border-radius: 0.35em; vertical-align: middle; margin-left: 0.5rem\">LOC</span>\n",
       "</mark>\n",
       " is a natural landform or if there is life on \n",
       "<mark class=\"entity\" style=\"background: #ff9561; padding: 0.45em 0.6em; margin: 0 0.25em; line-height: 1; border-radius: 0.35em;\">\n",
       "    Mars\n",
       "    <span style=\"font-size: 0.8em; font-weight: bold; line-height: 1; border-radius: 0.35em; vertical-align: middle; margin-left: 0.5rem\">LOC</span>\n",
       "</mark>\n",
       " that made it. </div></span>"
      ],
      "text/plain": [
       "<IPython.core.display.HTML object>"
      ]
     },
     "metadata": {},
     "output_type": "display_data"
    },
    {
     "data": {
      "text/html": [
       "<span class=\"tex2jax_ignore\"><div class=\"entities\" style=\"line-height: 2.5; direction: ltr\">The story is about how \n",
       "<mark class=\"entity\" style=\"background: #7aecec; padding: 0.45em 0.6em; margin: 0 0.25em; line-height: 1; border-radius: 0.35em;\">\n",
       "    NASA\n",
       "    <span style=\"font-size: 0.8em; font-weight: bold; line-height: 1; border-radius: 0.35em; vertical-align: middle; margin-left: 0.5rem\">ORG</span>\n",
       "</mark>\n",
       " took a picture of \n",
       "<mark class=\"entity\" style=\"background: #ff9561; padding: 0.45em 0.6em; margin: 0 0.25em; line-height: 1; border-radius: 0.35em;\">\n",
       "    Mars\n",
       "    <span style=\"font-size: 0.8em; font-weight: bold; line-height: 1; border-radius: 0.35em; vertical-align: middle; margin-left: 0.5rem\">LOC</span>\n",
       "</mark>\n",
       " and a face was seen on the planet. </div></span>"
      ],
      "text/plain": [
       "<IPython.core.display.HTML object>"
      ]
     },
     "metadata": {},
     "output_type": "display_data"
    },
    {
     "data": {
      "text/html": [
       "<span class=\"tex2jax_ignore\"><div class=\"entities\" style=\"line-height: 2.5; direction: ltr\">\n",
       "<mark class=\"entity\" style=\"background: #7aecec; padding: 0.45em 0.6em; margin: 0 0.25em; line-height: 1; border-radius: 0.35em;\">\n",
       "    NASA\n",
       "    <span style=\"font-size: 0.8em; font-weight: bold; line-height: 1; border-radius: 0.35em; vertical-align: middle; margin-left: 0.5rem\">ORG</span>\n",
       "</mark>\n",
       " doesn't know if the landform was created by life on \n",
       "<mark class=\"entity\" style=\"background: #ff9561; padding: 0.45em 0.6em; margin: 0 0.25em; line-height: 1; border-radius: 0.35em;\">\n",
       "    Mars\n",
       "    <span style=\"font-size: 0.8em; font-weight: bold; line-height: 1; border-radius: 0.35em; vertical-align: middle; margin-left: 0.5rem\">LOC</span>\n",
       "</mark>\n",
       ", or if it is just a natural landform. </div></span>"
      ],
      "text/plain": [
       "<IPython.core.display.HTML object>"
      ]
     },
     "metadata": {},
     "output_type": "display_data"
    }
   ],
   "source": [
    "# doc1 = nlp(doc)\n",
    "for text in doc.sents:\n",
    "#    for _ in text:\n",
    "    displacy.render(text,style=\"ent\")"
   ]
  },
  {
   "cell_type": "code",
   "execution_count": 164,
   "metadata": {},
   "outputs": [
    {
     "data": {
      "text/plain": [
       "array([-1.6757342e-01,  3.2349467e-01,  5.2338309e+00, -1.3623751e+00,\n",
       "        7.6787539e+00, -5.0227594e+00,  1.0170038e+00, -2.8516841e+00,\n",
       "        2.2204928e-03, -2.4504852e+00, -1.4220175e+00, -2.6985592e-01,\n",
       "       -2.7397611e+00, -8.4532160e-01,  9.5925266e-01,  2.1179056e+00,\n",
       "       -2.7260671e+00, -1.5019665e+00,  1.3196259e+00,  1.5853581e+00,\n",
       "       -8.0273157e-01, -1.7816477e+00, -8.3447462e-01, -8.2648200e-01,\n",
       "        1.4986085e+00, -8.2607198e-01, -2.3180833e+00, -1.0090871e+00,\n",
       "        4.9505730e+00, -1.7082605e+00, -8.6971241e-01,  2.6181060e-01,\n",
       "       -1.7573601e+00,  9.4672278e-02, -2.4123139e+00, -5.6552267e+00,\n",
       "        2.1722065e-01, -4.9020328e-02, -1.3811423e+00,  1.8515172e+00,\n",
       "        1.0241328e+00, -9.6526861e-01, -5.2767777e+00,  3.3181295e+00,\n",
       "       -5.3659987e+00,  4.6023817e+00, -5.9296093e+00,  2.7351451e+00,\n",
       "       -4.6759963e+00,  9.1466608e+00, -3.3443191e+00,  7.5777918e-01,\n",
       "        2.6942933e+00, -2.8610382e+00, -4.1209702e+00,  7.3811567e-01,\n",
       "       -3.8786488e+00,  3.0754514e+00,  3.1205311e+00, -2.1245320e+00,\n",
       "        6.0577874e+00, -3.1732624e+00, -1.4817661e+00, -9.2631310e-02,\n",
       "        3.4395211e+00,  1.9262966e+00, -6.4035335e+00,  7.5655568e-01,\n",
       "        4.5214062e+00,  4.2349434e-01, -2.1562176e+00, -7.9214519e-01,\n",
       "       -3.2637737e+00, -2.9545632e-01, -1.7437307e+00, -3.4453869e+00,\n",
       "       -7.0027983e-01, -3.0807989e+00, -1.8229777e+00, -2.9098952e+00,\n",
       "       -3.4240124e-01, -5.0253934e-01, -8.7709963e-01,  1.1241235e+00,\n",
       "        3.5104272e+00, -1.7246261e+00, -3.8349438e+00, -1.0864966e+00,\n",
       "       -2.4094560e+00,  3.3434188e+00, -2.7629640e+00, -5.2951365e+00,\n",
       "        3.8338492e+00,  2.9006343e+00, -4.7397251e+00, -3.9851592e+00,\n",
       "       -1.2359725e+00,  5.5052596e-01,  4.6894455e+00,  3.3222299e+00,\n",
       "       -2.2322328e+00,  9.5703465e-01,  1.0802005e+01,  5.9577374e+00,\n",
       "       -2.8716202e+00,  3.2938244e+00,  2.4447434e+00,  1.4926847e+00,\n",
       "       -1.3131950e+00, -4.7855148e+00, -4.2949867e+00,  2.1385293e+00,\n",
       "       -2.8561063e+00, -1.9659467e+00,  4.8477340e+00,  2.7546218e-01,\n",
       "       -4.2549068e-01,  3.1185112e+00, -2.6827696e-01, -9.9995261e-01,\n",
       "       -1.1103840e-01,  7.9305035e-01,  2.4586987e-01,  2.2424119e+00,\n",
       "       -2.7712123e+00, -4.3966990e+00,  7.1772814e-01, -5.9376473e+00,\n",
       "        4.5482016e-01,  2.5320837e+00, -4.1948400e+00, -8.5404813e-01,\n",
       "        2.9441321e+00, -4.2471294e+00, -1.0614582e+00, -2.3171565e-01,\n",
       "       -2.9974036e+00, -3.9998503e+00,  1.8572650e+00,  1.1021987e+00,\n",
       "       -1.7265605e+00, -3.5877433e-02, -5.9618192e+00,  2.1822067e-02,\n",
       "        1.5593774e+00, -2.0549023e+00, -2.4141589e-01,  1.5909269e+00,\n",
       "        5.4612746e+00,  7.3266425e+00,  2.0550191e+00,  1.4826235e+00,\n",
       "        7.2075927e-01,  6.6734438e+00, -7.2500687e+00,  2.2318993e+00,\n",
       "        2.4818058e+00,  3.5033388e+00, -5.0553161e-01, -2.4499867e+00,\n",
       "       -1.5851200e+00, -3.1370733e+00, -5.0350785e+00,  2.7350769e+00,\n",
       "       -2.9856214e-01, -2.1182067e+00, -5.5976605e+00,  2.3198054e+00,\n",
       "       -1.8499091e+00, -7.7119708e-02,  2.2685049e+00, -1.7162509e+00,\n",
       "        5.8885098e+00,  1.8172622e+00,  3.2620325e+00, -2.1335548e-01,\n",
       "        3.8220375e+00,  3.4292557e+00, -6.0504675e-01, -2.5668492e+00,\n",
       "       -3.5793264e+00,  2.1916842e+00,  1.7949924e+00,  7.0626360e-01,\n",
       "       -1.6696463e+00,  1.8141918e-01, -6.5095325e+00,  9.7868025e-01,\n",
       "        3.5721424e+00,  1.6213100e-01,  2.8586807e+00,  1.6206493e+00,\n",
       "        6.4541894e-01,  5.1491413e+00,  5.6533676e-01, -3.0871022e+00,\n",
       "        1.0305332e+00,  2.0860571e-01,  5.6445122e+00,  1.9297215e+00,\n",
       "        1.5176032e+00, -1.4596066e+00,  1.2168958e+00, -2.4238136e+00,\n",
       "       -4.5062633e+00, -5.9863311e-01,  4.8780879e-01,  7.5821155e-01,\n",
       "       -4.8601645e-01, -4.9819489e+00, -6.4989281e-01, -1.0860364e-03,\n",
       "       -1.8633997e+00, -2.7045098e-01, -5.7238382e-01,  6.5462189e+00,\n",
       "       -7.1876616e+00,  1.5680072e+00,  4.0233335e+00,  5.7598271e+00,\n",
       "        9.6019101e-01, -1.5342484e-01, -5.3970009e-01,  9.7332793e-01,\n",
       "       -4.9261727e+00, -1.4695117e+00,  3.3739207e+00,  6.8320894e+00,\n",
       "        6.1792417e+00,  1.9557161e+00, -1.7864817e+00, -4.1287155e+00,\n",
       "       -6.2242932e+00, -2.8352778e+00,  3.6940751e+00,  1.4872016e+00,\n",
       "        5.4851907e-01,  3.0160558e+00, -4.0189490e+00,  2.7314690e-01,\n",
       "        7.5677776e+00, -8.0295777e-01,  1.3561243e+00, -2.3498852e+00,\n",
       "        1.9213234e-01, -2.6855812e+00, -6.3520074e+00, -3.5270762e+00,\n",
       "       -7.3565278e+00, -5.1336932e-01, -1.2771485e+00, -5.1497374e+00,\n",
       "       -4.8960733e+00,  4.2989521e+00,  2.2217464e+00, -6.7819805e+00,\n",
       "        2.3308508e+00, -2.3732963e+00,  1.1595759e+00,  3.7240286e+00,\n",
       "       -2.1710839e+00,  3.8579299e+00,  1.9991382e+00, -1.4496458e+00,\n",
       "        1.6314828e+00,  2.0737603e+00, -3.7418947e+00, -2.4697225e+00,\n",
       "       -2.7169195e-01, -2.8448462e+00,  1.6143018e+00,  3.7034178e+00,\n",
       "        2.3204672e+00,  8.4572691e-01,  5.8992676e-02,  1.9771662e+00,\n",
       "        9.1936696e-01, -7.5476122e-01, -1.9890925e+00,  6.1680984e+00,\n",
       "       -1.9839157e+00,  4.5441337e+00,  2.1519601e+00,  2.5553930e+00,\n",
       "       -3.8726933e+00, -1.7817137e-01,  2.4658782e+00,  6.5152609e-01,\n",
       "        4.2565379e+00,  2.5887139e+00,  4.1058912e+00, -4.6539016e+00,\n",
       "        3.7277474e+00, -2.0323925e+00, -3.4141903e+00,  1.8938735e+00,\n",
       "        1.2041920e+00, -5.0594559e+00, -5.5927196e+00,  4.5838804e+00],\n",
       "      dtype=float32)"
      ]
     },
     "execution_count": 164,
     "metadata": {},
     "output_type": "execute_result"
    }
   ],
   "source": [
    "nlp(str(doc_num_ents)).vector"
   ]
  },
  {
   "cell_type": "code",
   "execution_count": 162,
   "metadata": {},
   "outputs": [
    {
     "data": {
      "text/plain": [
       "array([-1.59506679e+00,  9.35565650e-01, -1.85468805e+00, -2.41428241e-01,\n",
       "        3.40299964e+00,  7.55888373e-02,  6.55277193e-01,  3.36179447e+00,\n",
       "       -6.69454098e-01, -5.42995274e-01,  5.44557953e+00,  1.32639444e+00,\n",
       "       -2.84408092e+00,  1.32091224e+00,  1.33178473e+00,  1.30859315e+00,\n",
       "        7.77745605e-01, -7.36039042e-01, -8.92585635e-01, -1.96740580e+00,\n",
       "        1.38215601e+00, -5.38971245e-01, -1.11807442e+00, -7.58545160e-01,\n",
       "       -8.34301054e-01, -1.47712290e+00, -2.05601501e+00, -1.21764886e+00,\n",
       "       -9.00579691e-01,  1.41311085e+00,  6.52712703e-01, -8.35363448e-01,\n",
       "       -1.12756765e+00, -1.54888237e+00, -1.88231075e+00, -1.32834554e+00,\n",
       "       -7.81207383e-01,  1.06780374e+00,  1.72302508e+00,  1.21900058e+00,\n",
       "        3.49755734e-02,  2.58874357e-01, -1.62835466e-03,  4.96540040e-01,\n",
       "       -1.81977856e+00,  1.92920446e+00,  7.45246470e-01, -2.41694856e+00,\n",
       "       -1.09663785e+00,  2.21198821e+00, -1.09870374e+00,  1.05113995e+00,\n",
       "        3.98829341e-01, -4.62983418e+00, -1.44046855e+00,  3.05446953e-01,\n",
       "        2.28093863e-01,  1.24678373e+00,  1.29406667e+00,  2.91092247e-01,\n",
       "        8.46403182e-01, -1.04726207e+00, -3.25868756e-01, -1.49996305e+00,\n",
       "        1.73796618e+00,  1.51330042e+00, -3.19681358e+00, -3.29557300e+00,\n",
       "        1.21561801e+00,  2.13659883e+00, -5.14149845e-01, -1.49613485e-01,\n",
       "       -2.37974381e+00, -5.07729292e-01, -6.12808585e-01,  1.54006696e+00,\n",
       "       -3.04423785e+00,  1.42535365e+00, -3.16437864e+00,  1.02410451e-01,\n",
       "       -3.69561911e+00, -5.73238015e-01,  1.41597819e+00,  6.28283024e-01,\n",
       "        2.19878650e+00, -6.17270112e-01, -1.88951731e+00, -2.40248990e+00,\n",
       "        1.08857226e+00, -7.52295077e-01, -1.51652598e+00, -7.16611266e-01,\n",
       "        1.75927389e+00, -4.13969660e+00,  3.12871158e-01, -1.71583724e+00,\n",
       "        1.19007313e+00, -1.24542856e+00,  3.74215245e-01,  8.02554786e-01,\n",
       "        2.10096383e+00,  1.30078495e+00,  2.83061481e+00,  2.80189395e+00,\n",
       "       -9.51328337e-01,  3.90174913e+00,  5.50195158e-01, -1.76036716e+00,\n",
       "       -6.09520555e-01, -2.72449350e+00,  9.34329093e-01,  8.12667072e-01,\n",
       "       -9.97529447e-01,  3.91878098e-01,  7.83745468e-01,  1.16302288e+00,\n",
       "       -1.39992511e+00, -5.20413041e-01,  1.75163180e-01, -1.36493397e+00,\n",
       "       -1.07951605e+00, -2.31194687e+00, -2.65371710e-01,  1.51904011e+00,\n",
       "       -1.60081100e+00, -3.43397617e+00,  9.86869395e-01, -2.37263870e+00,\n",
       "        1.88783908e+00, -6.05395317e-01, -2.61130619e+00, -6.42521083e-02,\n",
       "        3.41470623e+00, -1.26689017e+00, -1.41378924e-01,  1.00279045e+00,\n",
       "       -1.93375731e+00, -1.33195591e+00,  3.24127078e+00, -1.92416704e+00,\n",
       "       -1.78378344e+00, -1.27383983e+00,  1.75551251e-01,  1.23198855e+00,\n",
       "        3.91091466e-01,  2.32532158e-01, -3.27097845e+00, -2.10489899e-01,\n",
       "        9.36495602e-01,  1.38910031e+00, -5.09298861e-01,  1.96062076e+00,\n",
       "       -1.08663915e-02,  1.24162042e+00, -1.42202783e+00,  1.39438474e+00,\n",
       "        3.01466799e+00,  2.76233315e-01, -1.56456876e+00, -1.11907053e+00,\n",
       "       -4.25827444e-01, -1.93219566e+00, -9.60664213e-01,  1.44338787e+00,\n",
       "       -2.44477391e+00, -1.68359935e+00, -3.78209281e+00,  1.70826113e+00,\n",
       "       -1.05636232e-01,  6.43350244e-01,  1.06589878e+00,  3.50839049e-01,\n",
       "        2.58249450e+00,  2.72533178e-01,  1.54948211e+00, -5.01867235e-01,\n",
       "       -2.12318152e-01,  6.31311655e-01, -2.12178826e+00, -2.03206563e+00,\n",
       "       -8.00306737e-01, -4.62929793e-02,  2.23384976e+00, -5.71579099e-01,\n",
       "       -1.35888755e+00,  8.81819129e-01, -1.84546280e+00, -8.01760077e-01,\n",
       "        1.36930978e+00,  1.77346766e+00, -5.86807787e-01, -7.74971128e-01,\n",
       "       -1.77866921e-01, -1.05511034e+00, -3.42966884e-01,  1.26604527e-01,\n",
       "       -2.41177297e+00,  2.63063818e-01,  6.13497376e-01,  1.01389313e+00,\n",
       "       -1.05292392e+00, -1.35645306e+00, -1.66603819e-01, -2.41016912e+00,\n",
       "        1.62179410e+00,  1.25356019e+00, -3.15635920e+00,  7.13307679e-01,\n",
       "       -5.98320961e-01, -9.97589290e-01,  9.34915900e-01,  3.00163180e-01,\n",
       "       -1.30725777e+00,  2.07286787e+00,  1.63111404e-01,  2.46881413e+00,\n",
       "       -4.70511913e-01, -2.03963995e+00, -2.76356280e-01,  8.40723932e-01,\n",
       "       -1.87716675e+00,  7.52430618e-01, -2.18424648e-01,  5.25743961e-01,\n",
       "       -1.84593391e+00, -1.38717937e+00,  5.61036289e-01,  2.39310312e+00,\n",
       "        2.40302134e+00,  4.25113946e-01,  1.11535382e+00, -3.05770516e+00,\n",
       "       -4.05512154e-01,  9.84608948e-01,  1.67520535e+00,  1.35814130e+00,\n",
       "       -1.30427587e+00,  1.80113316e+00, -5.80714047e-01, -3.29577893e-01,\n",
       "       -9.65765297e-01, -1.44796744e-01,  1.28243041e+00,  2.23858789e-01,\n",
       "       -1.05084348e+00,  7.53933191e-02, -2.36087132e+00,  5.40817797e-01,\n",
       "        1.62471056e-01,  2.38010812e+00,  8.81017268e-01, -1.61851156e+00,\n",
       "       -5.08761358e+00,  4.45451736e-01,  4.76674527e-01, -3.00938034e+00,\n",
       "        1.39423215e+00, -2.38337517e-01,  2.40259618e-01,  1.51808095e+00,\n",
       "       -5.51577330e-01,  4.87979269e+00,  3.04897118e+00,  2.39781523e+00,\n",
       "        1.49134314e+00, -2.95034766e-01, -1.30149797e-01,  2.03655505e+00,\n",
       "       -3.30726552e+00, -1.42771332e-02,  1.29299545e+00, -5.14150918e-01,\n",
       "        1.75034568e-01, -1.23377311e+00,  5.61574578e-01, -1.60656974e-01,\n",
       "        1.96061826e+00, -1.36805999e+00, -8.76486421e-01,  2.24267054e+00,\n",
       "        5.75710714e-01,  6.51944280e-02,  1.01593626e+00,  1.10966110e+00,\n",
       "        2.57271647e+00, -8.99353564e-01,  4.85227734e-01,  1.12838328e+00,\n",
       "       -9.38404262e-01,  7.66706347e-01,  1.40443695e+00, -1.06981790e+00,\n",
       "        7.79367089e-01, -3.80313724e-01, -1.29758453e+00,  7.70611286e-01,\n",
       "        1.05102205e+00, -7.32195854e-01, -2.79283190e+00,  1.68778408e+00],\n",
       "      dtype=float32)"
      ]
     },
     "execution_count": 162,
     "metadata": {},
     "output_type": "execute_result"
    }
   ],
   "source": [
    "doc_num.vector"
   ]
  },
  {
   "cell_type": "code",
   "execution_count": 116,
   "metadata": {},
   "outputs": [],
   "source": [
    "doc_num = nlp(str([x for x in train_df['discourse_text'][:15]]))"
   ]
  },
  {
   "cell_type": "code",
   "execution_count": 134,
   "metadata": {},
   "outputs": [],
   "source": [
    "ents = [(e.text, e.label_, e.kb_id_) for e in doc_num.ents]"
   ]
  },
  {
   "cell_type": "code",
   "execution_count": 140,
   "metadata": {},
   "outputs": [
    {
     "name": "stdout",
     "output_type": "stream",
     "text": [
      "['[', '\"', 'Hi', ',', 'i', \"'m\", 'Isaac', ',', 'i', \"'m\", 'going', 'to', 'be', 'writing', 'about', 'how', 'this', 'face', 'on', 'LOC', 'is', 'a', 'natural', 'landform', 'or', 'if', 'there', 'is', 'life', 'on', 'LOC', 'that', 'made', 'it', '.', 'The', 'story', 'is', 'about', 'how', 'ORG', 'took', 'a', 'picture', 'of', 'LOC', 'and', 'a', 'face', 'was', 'seen', 'on', 'the', 'planet', '.', 'ORG', 'does', \"n't\", 'know', 'if', 'the', 'landform', 'was', 'created', 'by', 'life', 'on', 'LOC', ',', 'or', 'if', 'it', 'is', 'just', 'a', 'natural', 'landform', '.', '\"', ',', '\"', 'On', 'my', 'perspective', ',', 'I', 'think', 'that', 'the', 'face', 'is', 'a', 'natural', 'landform', 'because', 'I', 'do', 'nt', 'think', 'that', 'there', 'is', 'any', 'life', 'on', 'LOC', '.', 'In', 'these', 'next', 'few', 'paragraphs', ',', 'I', \"'ll\", 'be', 'talking', 'about', 'how', 'I', 'think', 'that', 'is', 'is', 'a', 'natural', 'landform', '\"', ',', \"'\", 'I', 'think', 'that', 'the', 'face', 'is', 'a', 'natural', 'landform', 'because', 'there', 'is', 'no', 'life', 'on', 'LOC', 'that', 'we', 'have', 'descovered', 'yet', \"'\", ',', \"'\", 'If', 'life', 'was', 'on', 'LOC', ',', 'we', 'would', 'know', 'by', 'now', '.', 'The', 'reason', 'why', 'I', 'think', 'it', 'is', 'a', 'natural', 'landform', 'because', ',', 'nobody', 'live', 'on', 'LOC', 'in', 'order', 'to', 'create', 'the', 'figure', '.', 'It', 'says', 'in', 'LAW', 'LAW', ',', '\"', 'It\\\\', \"'s\", 'not', 'easy', 'to', 'target', 'GPE', ',', '\"', 'in', 'which', 'he', 'is', 'saying', 'that', 'its', 'not', 'easy', 'to', 'know', 'if', 'it', 'is', 'a', 'natural', 'landform', 'at', 'this', 'point', '.', 'In', 'all', 'that', \"they\\\\'re\", 'saying', ',', 'its', 'probably', 'a', 'natural', 'landform', '.', \"'\", ',', \"'\", 'People', 'thought', 'that', 'the', 'face', 'was', 'formed', 'by', 'alieans', 'because', 'they', 'thought', 'that', 'there', 'was', 'life', 'on', 'LOC', '.', \"'\", ',', \"'\", 'though', 'some', 'say', 'that', 'life', 'on', 'LOC', 'does', 'exist', ',', 'I', 'think', 'that', 'there', 'is', 'no', 'life', 'on', 'LOC', '.', \"'\", ',', \"'\", 'It', 'says', 'in', 'LAW', 'LAW', ',', 'on', 'DATE', 'DATE', 'DATE', 'DATE', ',', 'ORG', 'ORG', 'ORG', 'flew', 'over', 'GPE', 'for', 'the', 'ORDINAL', 'time', '.', 'PERSON', 'PERSON', 'took', 'a', 'picture', 'of', 'LOC', 'with', 'his', 'ORG', 'ORG', ',', 'that', 'the', 'face', 'was', 'a', 'natural', 'landform', '.', \"'\", ',', '\"', 'Everyone', 'who', 'thought', 'it', 'was', 'made', 'by', 'alieans', 'even', 'though', 'it', 'was', \"n't\", ',', 'was', 'not', 'satisfied', '.', 'I', 'think', 'they', 'were', 'not', 'satisfied', 'because', 'they', 'have', 'thought', 'since', 'DATE', 'that', 'it', 'was', 'really', 'formed', 'by', 'alieans', '.', '\"', ',', '\"', 'Though', 'people', 'were', 'not', 'satified', 'about', 'how', 'the', 'landform', 'was', 'a', 'natural', 'landform', ',', 'in', 'all', ',', 'we', 'new', 'that', 'alieans', 'did', 'not', 'form', 'the', 'face', '.', 'I', 'would', 'like', 'to', 'know', 'how', 'the', 'landform', 'was', 'formed', '.', 'we', 'know', 'now', 'that', 'life', 'on', 'LOC', 'does', \"n't\", 'exist', '.', '\"', ',', \"'\", 'Limiting', 'the', 'usage', 'of', 'cars', 'has', 'personal', 'and', 'professional', 'support', 'all', 'across', 'the', 'globe', 'and', 'yet', 'it', 'has', 'yet', 'to', 'be', 'embraced', 'everywhere', '.', 'Statistical', 'proof', 'show', 'where', 'it', 'may', 'help', 'and', 'real', 'life', 'examples', 'of', 'some', 'of', 'the', 'effects', 'of', 'reducing', ',', 'or', 'getting', 'rid', 'of', 'altogether', ',', 'cars', 'in', 'ORG', \"'s\", 'DATE', 'life', '.', 'While', '\"', 'recent', 'studies', 'suggest', 'that', 'NORP', 'are', 'buying', 'fewer', 'cars', ',', 'driving', 'less', 'and', 'getting', 'fewer', 'licenses', 'as', 'DATE', 'DATE', 'goes', 'by', '\"', '(', 'Source', 'CARDINAL', ')', ',', 'is', 'that', 'really', 'enough', 'or', 'for', 'the', 'right', 'reason', '?', 'There', 'are', 'plenty', 'of', 'reasons', 'to', 'stop', ',', 'or', 'limit', ',', 'the', 'amount', 'of', 'cars', 'being', 'driven', 'on', 'the', 'roads', 'for', 'every', 'kind', 'of', 'person', ',', 'from', 'the', 'hippie', 'to', 'the', 'businessman', ',', 'from', 'the', 'mom', 'to', 'the', 'college', 'student', '.', \"'\", ',', \"'\", 'With', 'so', 'many', 'things', 'in', 'this', 'world', 'that', 'few', 'people', 'agree', 'on', ',', 'this', 'is', 'a', 'nice', 'change', 'to', 'see', 'in', 'regards', 'the', 'removal', 'of', 'so', 'many', 'cars', '.', 'Why', 'would', 'they', 'all', 'agree', ',', 'one', 'might', 'ask', '.', 'Well', ',', 'there', 'are', 'plenty', 'of', 'reasons', '.', '\\\\n', \"'\", ',', \"'\", 'stress', '.', \"'\", ',', \"'\", 'It', 'is', 'no', 'secret', 'TIME', 'TIME', 'traffic', 'jams', 'and', 'CARDINAL', 'traffic', 'is', 'often', 'enough', 'to', 'send', 'any', 'driver', 'into', 'a', 'fit', 'of', 'unadulterated', 'rage', 'and', 'what', 'better', 'way', 'is', 'there', 'to', 'prevent', 'that', 'than', 'to', 'simply', 'not', 'drive', 'at', 'all', '?', 'Mother', 'and', 'media', 'trainer', ',', 'PERSON', 'PERSON', 'attested', 'to', 'this', 'after', 'moving', 'into', 'a', 'mostly', 'car', '-', 'less', 'community', ',', 'claiming', '\"', 'when', '[', 'she', ']', 'had', 'a', 'car', '[', 'she', ']', 'was', 'always', 'tense', '.', '[', 'She\\\\', \"'s\", ']', 'much', 'happier', '[', 'that', ']', 'way', '\"', '(', 'Source', 'CARDINAL', ')', '.', 'If', 'that', 'were', 'not', 'enough', ',', 'businessman', 'PERSON', 'PERSON', 'PERSON', 'who', 'participated', 'in', 'the', 'Day', 'Without', 'Cars', 'in', 'GPE', ',', 'GPE', ',', 'after', 'DATE', 'DATE', 'DATE', 'was', 'able', 'to', 'say', '\"', 'it\\\\', \"'s\", 'a', 'good', 'oppurtunity', 'to', 'take', 'away', 'stress', '\"', '(', 'Source', 'CARDINAL', ')', '.', 'Just', 'one', 'day', 'was', 'enough', 'to', 'de', '-', 'stress', 'this', 'man', 'and', 'if', 'that', 'does', 'not', 'speak', 'wonders', ',', 'one', 'has', 'to', 'wonder', 'what', 'does', '.', 'The', 'event', '\"', '[', 'left', ']', 'the', 'streets', 'of', '[', 'GPE', ']', 'eerily', 'devoid', 'of', 'traffic', 'jams', '\"', '(', 'Source', 'CARDINAL', ')', ',', 'which', 'goes', 'to', 'show', 'how', 'stressful', 'it', 'was', 'everyday', ',', 'with', 'traffic', 'jams', 'a', 'common', 'occurance', '.', 'No', 'one', 'enjoys', 'them', ',', 'so', 'why', 'continue', 'to', 'suffer', 'through', 'them', '?', \"'\", ',', \"'\", 'the', 'environment', 'suffers', 'greatly', 'from', 'the', 'many', 'car', 'emissions', 'let', 'out', 'on', 'the', 'roads', '.', \"'\", ',', \"'\", '\"', 'Passenger', 'cars', 'are', 'responsible', 'for', 'PERCENT', 'PERCENT', 'of', 'greenhouse', 'gas', 'emissions', 'in', 'LOC', '...', 'and', 'PERCENT', 'PERCENT', 'PERCENT', 'PERCENT', 'in', 'some', 'car', '-', 'intensive', 'areas', 'in', 'GPE', 'GPE', 'GPE', '\"', '(', 'Source', 'CARDINAL', ')', '.', 'This', 'alone', 'should', 'be', 'enough', 'to', 'horrify', 'anyone', 'out', 'of', 'such', 'copious', 'amounts', 'of', 'car', 'usage', '.', 'If', 'that', 'were', 'not', 'enough', ',', '\"', 'transportation', 'is', 'the', 'ORDINAL', 'largest', 'source', 'of', 'GPE', \"'s\", 'emissions', '\"', '(', 'Source', 'CARDINAL', ')', '.', 'It', 'is', 'clear', 'that', 'cars', 'are', 'only', 'doing', 'more', 'harm', 'to', 'this', 'earth', 'all', 'humans', 'live', 'on', 'and', 'happen', 'to', 'only', 'have', 'one', 'of', ',', 'so', 'there', 'is', 'no', 'need', 'to', 'continue', 'on', 'knowing', 'this', 'without', 'changing', 'something', 'about', 'that', '.', 'Even', 'car', '-', 'pooling', 'could', 'significantly', 'reduce', 'emissions', 'as', 'there', 'would', 'be', 'less', 'cars', 'out', 'there', ',', 'which', 'is', 'possible', 'through', '\"', 'more', 'flexible', 'commuting', 'arrangements', ',', 'including', 'the', 'evolution', 'of', 'shared', 'van', 'services', 'for', 'getting', 'to', 'work', '\"', '(', 'Source', 'CARDINAL', ')', '.', '\\\\n', \"'\", ']']\n"
     ]
    }
   ],
   "source": [
    "doc_num_ents = [t.text if not t.ent_type_ else t.ent_type_ for t in doc_num]\n",
    "print(doc_num_ents)"
   ]
  },
  {
   "cell_type": "code",
   "execution_count": 117,
   "metadata": {},
   "outputs": [
    {
     "data": {
      "text/html": [
       "<span class=\"tex2jax_ignore\"><div class=\"entities\" style=\"line-height: 2.5; direction: ltr\">[&quot;Hi, i'm Isaac, i'm going to be writing about how this face on \n",
       "<mark class=\"entity\" style=\"background: #ff9561; padding: 0.45em 0.6em; margin: 0 0.25em; line-height: 1; border-radius: 0.35em;\">\n",
       "    Mars\n",
       "    <span style=\"font-size: 0.8em; font-weight: bold; line-height: 1; border-radius: 0.35em; vertical-align: middle; margin-left: 0.5rem\">LOC</span>\n",
       "</mark>\n",
       " is a natural landform or if there is life on \n",
       "<mark class=\"entity\" style=\"background: #ff9561; padding: 0.45em 0.6em; margin: 0 0.25em; line-height: 1; border-radius: 0.35em;\">\n",
       "    Mars\n",
       "    <span style=\"font-size: 0.8em; font-weight: bold; line-height: 1; border-radius: 0.35em; vertical-align: middle; margin-left: 0.5rem\">LOC</span>\n",
       "</mark>\n",
       " that made it. The story is about how \n",
       "<mark class=\"entity\" style=\"background: #7aecec; padding: 0.45em 0.6em; margin: 0 0.25em; line-height: 1; border-radius: 0.35em;\">\n",
       "    NASA\n",
       "    <span style=\"font-size: 0.8em; font-weight: bold; line-height: 1; border-radius: 0.35em; vertical-align: middle; margin-left: 0.5rem\">ORG</span>\n",
       "</mark>\n",
       " took a picture of \n",
       "<mark class=\"entity\" style=\"background: #ff9561; padding: 0.45em 0.6em; margin: 0 0.25em; line-height: 1; border-radius: 0.35em;\">\n",
       "    Mars\n",
       "    <span style=\"font-size: 0.8em; font-weight: bold; line-height: 1; border-radius: 0.35em; vertical-align: middle; margin-left: 0.5rem\">LOC</span>\n",
       "</mark>\n",
       " and a face was seen on the planet. \n",
       "<mark class=\"entity\" style=\"background: #7aecec; padding: 0.45em 0.6em; margin: 0 0.25em; line-height: 1; border-radius: 0.35em;\">\n",
       "    NASA\n",
       "    <span style=\"font-size: 0.8em; font-weight: bold; line-height: 1; border-radius: 0.35em; vertical-align: middle; margin-left: 0.5rem\">ORG</span>\n",
       "</mark>\n",
       " doesn't know if the landform was created by life on \n",
       "<mark class=\"entity\" style=\"background: #ff9561; padding: 0.45em 0.6em; margin: 0 0.25em; line-height: 1; border-radius: 0.35em;\">\n",
       "    Mars\n",
       "    <span style=\"font-size: 0.8em; font-weight: bold; line-height: 1; border-radius: 0.35em; vertical-align: middle; margin-left: 0.5rem\">LOC</span>\n",
       "</mark>\n",
       ", or if it is just a natural landform. &quot;, &quot;On my perspective, I think that the face is a natural landform because I dont think that there is any life on \n",
       "<mark class=\"entity\" style=\"background: #ff9561; padding: 0.45em 0.6em; margin: 0 0.25em; line-height: 1; border-radius: 0.35em;\">\n",
       "    Mars\n",
       "    <span style=\"font-size: 0.8em; font-weight: bold; line-height: 1; border-radius: 0.35em; vertical-align: middle; margin-left: 0.5rem\">LOC</span>\n",
       "</mark>\n",
       ". In these next few paragraphs, I'll be talking about how I think that is is a natural landform &quot;, 'I think that the face is a natural landform because there is no life on \n",
       "<mark class=\"entity\" style=\"background: #ff9561; padding: 0.45em 0.6em; margin: 0 0.25em; line-height: 1; border-radius: 0.35em;\">\n",
       "    Mars\n",
       "    <span style=\"font-size: 0.8em; font-weight: bold; line-height: 1; border-radius: 0.35em; vertical-align: middle; margin-left: 0.5rem\">LOC</span>\n",
       "</mark>\n",
       " that we have descovered yet ', 'If life was on \n",
       "<mark class=\"entity\" style=\"background: #ff9561; padding: 0.45em 0.6em; margin: 0 0.25em; line-height: 1; border-radius: 0.35em;\">\n",
       "    Mars\n",
       "    <span style=\"font-size: 0.8em; font-weight: bold; line-height: 1; border-radius: 0.35em; vertical-align: middle; margin-left: 0.5rem\">LOC</span>\n",
       "</mark>\n",
       ", we would know by now. The reason why I think it is a natural landform because, nobody live on \n",
       "<mark class=\"entity\" style=\"background: #ff9561; padding: 0.45em 0.6em; margin: 0 0.25em; line-height: 1; border-radius: 0.35em;\">\n",
       "    Mars\n",
       "    <span style=\"font-size: 0.8em; font-weight: bold; line-height: 1; border-radius: 0.35em; vertical-align: middle; margin-left: 0.5rem\">LOC</span>\n",
       "</mark>\n",
       " in order to create the figure. It says in \n",
       "<mark class=\"entity\" style=\"background: #ff8197; padding: 0.45em 0.6em; margin: 0 0.25em; line-height: 1; border-radius: 0.35em;\">\n",
       "    paragraph 9\n",
       "    <span style=\"font-size: 0.8em; font-weight: bold; line-height: 1; border-radius: 0.35em; vertical-align: middle; margin-left: 0.5rem\">LAW</span>\n",
       "</mark>\n",
       ", &quot;It\\'s not easy to target \n",
       "<mark class=\"entity\" style=\"background: #feca74; padding: 0.45em 0.6em; margin: 0 0.25em; line-height: 1; border-radius: 0.35em;\">\n",
       "    Cydonia\n",
       "    <span style=\"font-size: 0.8em; font-weight: bold; line-height: 1; border-radius: 0.35em; vertical-align: middle; margin-left: 0.5rem\">GPE</span>\n",
       "</mark>\n",
       ",&quot; in which he is saying that its not easy to know if it is a natural landform at this point. In all that they\\'re saying, its probably a natural landform. ', 'People thought that the face was formed by alieans because they thought that there was life on \n",
       "<mark class=\"entity\" style=\"background: #ff9561; padding: 0.45em 0.6em; margin: 0 0.25em; line-height: 1; border-radius: 0.35em;\">\n",
       "    Mars\n",
       "    <span style=\"font-size: 0.8em; font-weight: bold; line-height: 1; border-radius: 0.35em; vertical-align: middle; margin-left: 0.5rem\">LOC</span>\n",
       "</mark>\n",
       ". ', 'though some say that life on \n",
       "<mark class=\"entity\" style=\"background: #ff9561; padding: 0.45em 0.6em; margin: 0 0.25em; line-height: 1; border-radius: 0.35em;\">\n",
       "    Mars\n",
       "    <span style=\"font-size: 0.8em; font-weight: bold; line-height: 1; border-radius: 0.35em; vertical-align: middle; margin-left: 0.5rem\">LOC</span>\n",
       "</mark>\n",
       " does exist, I think that there is no life on \n",
       "<mark class=\"entity\" style=\"background: #ff9561; padding: 0.45em 0.6em; margin: 0 0.25em; line-height: 1; border-radius: 0.35em;\">\n",
       "    Mars\n",
       "    <span style=\"font-size: 0.8em; font-weight: bold; line-height: 1; border-radius: 0.35em; vertical-align: middle; margin-left: 0.5rem\">LOC</span>\n",
       "</mark>\n",
       ". ', 'It says in \n",
       "<mark class=\"entity\" style=\"background: #ff8197; padding: 0.45em 0.6em; margin: 0 0.25em; line-height: 1; border-radius: 0.35em;\">\n",
       "    paragraph 7\n",
       "    <span style=\"font-size: 0.8em; font-weight: bold; line-height: 1; border-radius: 0.35em; vertical-align: middle; margin-left: 0.5rem\">LAW</span>\n",
       "</mark>\n",
       ", on \n",
       "<mark class=\"entity\" style=\"background: #bfe1d9; padding: 0.45em 0.6em; margin: 0 0.25em; line-height: 1; border-radius: 0.35em;\">\n",
       "    April 5, 1998\n",
       "    <span style=\"font-size: 0.8em; font-weight: bold; line-height: 1; border-radius: 0.35em; vertical-align: middle; margin-left: 0.5rem\">DATE</span>\n",
       "</mark>\n",
       ", \n",
       "<mark class=\"entity\" style=\"background: #7aecec; padding: 0.45em 0.6em; margin: 0 0.25em; line-height: 1; border-radius: 0.35em;\">\n",
       "    Mars Global Surveyor\n",
       "    <span style=\"font-size: 0.8em; font-weight: bold; line-height: 1; border-radius: 0.35em; vertical-align: middle; margin-left: 0.5rem\">ORG</span>\n",
       "</mark>\n",
       " flew over \n",
       "<mark class=\"entity\" style=\"background: #feca74; padding: 0.45em 0.6em; margin: 0 0.25em; line-height: 1; border-radius: 0.35em;\">\n",
       "    Cydonia\n",
       "    <span style=\"font-size: 0.8em; font-weight: bold; line-height: 1; border-radius: 0.35em; vertical-align: middle; margin-left: 0.5rem\">GPE</span>\n",
       "</mark>\n",
       " for the \n",
       "<mark class=\"entity\" style=\"background: #e4e7d2; padding: 0.45em 0.6em; margin: 0 0.25em; line-height: 1; border-radius: 0.35em;\">\n",
       "    first\n",
       "    <span style=\"font-size: 0.8em; font-weight: bold; line-height: 1; border-radius: 0.35em; vertical-align: middle; margin-left: 0.5rem\">ORDINAL</span>\n",
       "</mark>\n",
       " time. \n",
       "<mark class=\"entity\" style=\"background: #aa9cfc; padding: 0.45em 0.6em; margin: 0 0.25em; line-height: 1; border-radius: 0.35em;\">\n",
       "    Michael Malin\n",
       "    <span style=\"font-size: 0.8em; font-weight: bold; line-height: 1; border-radius: 0.35em; vertical-align: middle; margin-left: 0.5rem\">PERSON</span>\n",
       "</mark>\n",
       " took a picture of \n",
       "<mark class=\"entity\" style=\"background: #ff9561; padding: 0.45em 0.6em; margin: 0 0.25em; line-height: 1; border-radius: 0.35em;\">\n",
       "    Mars\n",
       "    <span style=\"font-size: 0.8em; font-weight: bold; line-height: 1; border-radius: 0.35em; vertical-align: middle; margin-left: 0.5rem\">LOC</span>\n",
       "</mark>\n",
       " with his \n",
       "<mark class=\"entity\" style=\"background: #7aecec; padding: 0.45em 0.6em; margin: 0 0.25em; line-height: 1; border-radius: 0.35em;\">\n",
       "    Orbiter Camera\n",
       "    <span style=\"font-size: 0.8em; font-weight: bold; line-height: 1; border-radius: 0.35em; vertical-align: middle; margin-left: 0.5rem\">ORG</span>\n",
       "</mark>\n",
       ", that the face was a natural landform. ', &quot;Everyone who thought it was made by alieans even though it wasn't, was not satisfied. I think they were not satisfied because they have thought since \n",
       "<mark class=\"entity\" style=\"background: #bfe1d9; padding: 0.45em 0.6em; margin: 0 0.25em; line-height: 1; border-radius: 0.35em;\">\n",
       "    1976\n",
       "    <span style=\"font-size: 0.8em; font-weight: bold; line-height: 1; border-radius: 0.35em; vertical-align: middle; margin-left: 0.5rem\">DATE</span>\n",
       "</mark>\n",
       " that it was really formed by alieans. &quot;, &quot;Though people were not satified about how the landform was a natural landform, in all, we new that alieans did not form the face. I would like to know how the landform was formed. we know now that life on \n",
       "<mark class=\"entity\" style=\"background: #ff9561; padding: 0.45em 0.6em; margin: 0 0.25em; line-height: 1; border-radius: 0.35em;\">\n",
       "    Mars\n",
       "    <span style=\"font-size: 0.8em; font-weight: bold; line-height: 1; border-radius: 0.35em; vertical-align: middle; margin-left: 0.5rem\">LOC</span>\n",
       "</mark>\n",
       " doesn't exist. &quot;, 'Limiting the usage of cars has personal and professional support all across the globe and yet it has yet to be embraced everywhere. Statistical proof show where it may help and real life examples of some of the effects of reducing, or getting rid of altogether, cars in \n",
       "<mark class=\"entity\" style=\"background: #7aecec; padding: 0.45em 0.6em; margin: 0 0.25em; line-height: 1; border-radius: 0.35em;\">\n",
       "    one\\\n",
       "    <span style=\"font-size: 0.8em; font-weight: bold; line-height: 1; border-radius: 0.35em; vertical-align: middle; margin-left: 0.5rem\">ORG</span>\n",
       "</mark>\n",
       "'s \n",
       "<mark class=\"entity\" style=\"background: #bfe1d9; padding: 0.45em 0.6em; margin: 0 0.25em; line-height: 1; border-radius: 0.35em;\">\n",
       "    daily\n",
       "    <span style=\"font-size: 0.8em; font-weight: bold; line-height: 1; border-radius: 0.35em; vertical-align: middle; margin-left: 0.5rem\">DATE</span>\n",
       "</mark>\n",
       " life. While &quot;recent studies suggest that \n",
       "<mark class=\"entity\" style=\"background: #c887fb; padding: 0.45em 0.6em; margin: 0 0.25em; line-height: 1; border-radius: 0.35em;\">\n",
       "    Americans\n",
       "    <span style=\"font-size: 0.8em; font-weight: bold; line-height: 1; border-radius: 0.35em; vertical-align: middle; margin-left: 0.5rem\">NORP</span>\n",
       "</mark>\n",
       " are buying fewer cars, driving less and getting fewer licenses as \n",
       "<mark class=\"entity\" style=\"background: #bfe1d9; padding: 0.45em 0.6em; margin: 0 0.25em; line-height: 1; border-radius: 0.35em;\">\n",
       "    each year\n",
       "    <span style=\"font-size: 0.8em; font-weight: bold; line-height: 1; border-radius: 0.35em; vertical-align: middle; margin-left: 0.5rem\">DATE</span>\n",
       "</mark>\n",
       " goes by&quot; (Source \n",
       "<mark class=\"entity\" style=\"background: #e4e7d2; padding: 0.45em 0.6em; margin: 0 0.25em; line-height: 1; border-radius: 0.35em;\">\n",
       "    4\n",
       "    <span style=\"font-size: 0.8em; font-weight: bold; line-height: 1; border-radius: 0.35em; vertical-align: middle; margin-left: 0.5rem\">CARDINAL</span>\n",
       "</mark>\n",
       "), is that really enough or for the right reason? There are plenty of reasons to stop, or limit, the amount of cars being driven on the roads for every kind of person, from the hippie to the businessman, from the mom to the college student. ', 'With so many things in this world that few people agree on, this is a nice change to see in regards the removal of so many cars. Why would they all agree, one might ask. Well, there are plenty of reasons. \\n', 'stress. ', 'It is no secret \n",
       "<mark class=\"entity\" style=\"background: #bfe1d9; padding: 0.45em 0.6em; margin: 0 0.25em; line-height: 1; border-radius: 0.35em;\">\n",
       "    that morning\n",
       "    <span style=\"font-size: 0.8em; font-weight: bold; line-height: 1; border-radius: 0.35em; vertical-align: middle; margin-left: 0.5rem\">TIME</span>\n",
       "</mark>\n",
       " traffic jams and \n",
       "<mark class=\"entity\" style=\"background: #e4e7d2; padding: 0.45em 0.6em; margin: 0 0.25em; line-height: 1; border-radius: 0.35em;\">\n",
       "    5\\'o\\'clock\n",
       "    <span style=\"font-size: 0.8em; font-weight: bold; line-height: 1; border-radius: 0.35em; vertical-align: middle; margin-left: 0.5rem\">CARDINAL</span>\n",
       "</mark>\n",
       " traffic is often enough to send any driver into a fit of unadulterated rage and what better way is there to prevent that than to simply not drive at all? Mother and media trainer, \n",
       "<mark class=\"entity\" style=\"background: #aa9cfc; padding: 0.45em 0.6em; margin: 0 0.25em; line-height: 1; border-radius: 0.35em;\">\n",
       "    Heidrum Walter\n",
       "    <span style=\"font-size: 0.8em; font-weight: bold; line-height: 1; border-radius: 0.35em; vertical-align: middle; margin-left: 0.5rem\">PERSON</span>\n",
       "</mark>\n",
       " attested to this after moving into a mostly car-less community, claiming &quot;when [she] had a car [she] was always tense. [She\\'s] much happier [that] way&quot; (Source \n",
       "<mark class=\"entity\" style=\"background: #e4e7d2; padding: 0.45em 0.6em; margin: 0 0.25em; line-height: 1; border-radius: 0.35em;\">\n",
       "    1\n",
       "    <span style=\"font-size: 0.8em; font-weight: bold; line-height: 1; border-radius: 0.35em; vertical-align: middle; margin-left: 0.5rem\">CARDINAL</span>\n",
       "</mark>\n",
       "). If that were not enough, businessman \n",
       "<mark class=\"entity\" style=\"background: #aa9cfc; padding: 0.45em 0.6em; margin: 0 0.25em; line-height: 1; border-radius: 0.35em;\">\n",
       "    Carlos Arturo Plaza\n",
       "    <span style=\"font-size: 0.8em; font-weight: bold; line-height: 1; border-radius: 0.35em; vertical-align: middle; margin-left: 0.5rem\">PERSON</span>\n",
       "</mark>\n",
       " who participated in the Day Without Cars in \n",
       "<mark class=\"entity\" style=\"background: #feca74; padding: 0.45em 0.6em; margin: 0 0.25em; line-height: 1; border-radius: 0.35em;\">\n",
       "    Bogota\n",
       "    <span style=\"font-size: 0.8em; font-weight: bold; line-height: 1; border-radius: 0.35em; vertical-align: middle; margin-left: 0.5rem\">GPE</span>\n",
       "</mark>\n",
       ", \n",
       "<mark class=\"entity\" style=\"background: #feca74; padding: 0.45em 0.6em; margin: 0 0.25em; line-height: 1; border-radius: 0.35em;\">\n",
       "    Colombia\n",
       "    <span style=\"font-size: 0.8em; font-weight: bold; line-height: 1; border-radius: 0.35em; vertical-align: middle; margin-left: 0.5rem\">GPE</span>\n",
       "</mark>\n",
       ", after \n",
       "<mark class=\"entity\" style=\"background: #bfe1d9; padding: 0.45em 0.6em; margin: 0 0.25em; line-height: 1; border-radius: 0.35em;\">\n",
       "    just a day\n",
       "    <span style=\"font-size: 0.8em; font-weight: bold; line-height: 1; border-radius: 0.35em; vertical-align: middle; margin-left: 0.5rem\">DATE</span>\n",
       "</mark>\n",
       " was able to say &quot;it\\'s a good oppurtunity to take away stress&quot; (Source \n",
       "<mark class=\"entity\" style=\"background: #e4e7d2; padding: 0.45em 0.6em; margin: 0 0.25em; line-height: 1; border-radius: 0.35em;\">\n",
       "    3\n",
       "    <span style=\"font-size: 0.8em; font-weight: bold; line-height: 1; border-radius: 0.35em; vertical-align: middle; margin-left: 0.5rem\">CARDINAL</span>\n",
       "</mark>\n",
       "). Just one day was enough to de-stress this man and if that does not speak wonders, one has to wonder what does. The event &quot;[left] the streets of [\n",
       "<mark class=\"entity\" style=\"background: #feca74; padding: 0.45em 0.6em; margin: 0 0.25em; line-height: 1; border-radius: 0.35em;\">\n",
       "    Bogota\n",
       "    <span style=\"font-size: 0.8em; font-weight: bold; line-height: 1; border-radius: 0.35em; vertical-align: middle; margin-left: 0.5rem\">GPE</span>\n",
       "</mark>\n",
       "] eerily devoid of traffic jams&quot; (Source \n",
       "<mark class=\"entity\" style=\"background: #e4e7d2; padding: 0.45em 0.6em; margin: 0 0.25em; line-height: 1; border-radius: 0.35em;\">\n",
       "    3\n",
       "    <span style=\"font-size: 0.8em; font-weight: bold; line-height: 1; border-radius: 0.35em; vertical-align: middle; margin-left: 0.5rem\">CARDINAL</span>\n",
       "</mark>\n",
       "), which goes to show how stressful it was everyday, with traffic jams a common occurance. No one enjoys them, so why continue to suffer through them? ', 'the environment suffers greatly from the many car emissions let out on the roads. ', '&quot;Passenger cars are responsible for \n",
       "<mark class=\"entity\" style=\"background: #e4e7d2; padding: 0.45em 0.6em; margin: 0 0.25em; line-height: 1; border-radius: 0.35em;\">\n",
       "    12 percent\n",
       "    <span style=\"font-size: 0.8em; font-weight: bold; line-height: 1; border-radius: 0.35em; vertical-align: middle; margin-left: 0.5rem\">PERCENT</span>\n",
       "</mark>\n",
       " of greenhouse gas emissions in \n",
       "<mark class=\"entity\" style=\"background: #ff9561; padding: 0.45em 0.6em; margin: 0 0.25em; line-height: 1; border-radius: 0.35em;\">\n",
       "    Europe\n",
       "    <span style=\"font-size: 0.8em; font-weight: bold; line-height: 1; border-radius: 0.35em; vertical-align: middle; margin-left: 0.5rem\">LOC</span>\n",
       "</mark>\n",
       " ... and \n",
       "<mark class=\"entity\" style=\"background: #e4e7d2; padding: 0.45em 0.6em; margin: 0 0.25em; line-height: 1; border-radius: 0.35em;\">\n",
       "    up to 50 percent\n",
       "    <span style=\"font-size: 0.8em; font-weight: bold; line-height: 1; border-radius: 0.35em; vertical-align: middle; margin-left: 0.5rem\">PERCENT</span>\n",
       "</mark>\n",
       " in some car-intensive areas in \n",
       "<mark class=\"entity\" style=\"background: #feca74; padding: 0.45em 0.6em; margin: 0 0.25em; line-height: 1; border-radius: 0.35em;\">\n",
       "    the United States\n",
       "    <span style=\"font-size: 0.8em; font-weight: bold; line-height: 1; border-radius: 0.35em; vertical-align: middle; margin-left: 0.5rem\">GPE</span>\n",
       "</mark>\n",
       "&quot; (Source \n",
       "<mark class=\"entity\" style=\"background: #e4e7d2; padding: 0.45em 0.6em; margin: 0 0.25em; line-height: 1; border-radius: 0.35em;\">\n",
       "    1\n",
       "    <span style=\"font-size: 0.8em; font-weight: bold; line-height: 1; border-radius: 0.35em; vertical-align: middle; margin-left: 0.5rem\">CARDINAL</span>\n",
       "</mark>\n",
       "). This alone should be enough to horrify anyone out of such copious amounts of car usage. If that were not enough, &quot;transportation is the \n",
       "<mark class=\"entity\" style=\"background: #e4e7d2; padding: 0.45em 0.6em; margin: 0 0.25em; line-height: 1; border-radius: 0.35em;\">\n",
       "    second\n",
       "    <span style=\"font-size: 0.8em; font-weight: bold; line-height: 1; border-radius: 0.35em; vertical-align: middle; margin-left: 0.5rem\">ORDINAL</span>\n",
       "</mark>\n",
       " largest source of \n",
       "<mark class=\"entity\" style=\"background: #feca74; padding: 0.45em 0.6em; margin: 0 0.25em; line-height: 1; border-radius: 0.35em;\">\n",
       "    America\\\n",
       "    <span style=\"font-size: 0.8em; font-weight: bold; line-height: 1; border-radius: 0.35em; vertical-align: middle; margin-left: 0.5rem\">GPE</span>\n",
       "</mark>\n",
       "'s emissions&quot; (Source \n",
       "<mark class=\"entity\" style=\"background: #e4e7d2; padding: 0.45em 0.6em; margin: 0 0.25em; line-height: 1; border-radius: 0.35em;\">\n",
       "    4\n",
       "    <span style=\"font-size: 0.8em; font-weight: bold; line-height: 1; border-radius: 0.35em; vertical-align: middle; margin-left: 0.5rem\">CARDINAL</span>\n",
       "</mark>\n",
       "). It is clear that cars are only doing more harm to this earth all humans live on and happen to only have one of, so there is no need to continue on knowing this without changing something about that. Even car-pooling could significantly reduce emissions as there would be less cars out there, which is possible through &quot;more flexible commuting arrangements, including the evolution of shared van services for getting to work&quot; (Source \n",
       "<mark class=\"entity\" style=\"background: #e4e7d2; padding: 0.45em 0.6em; margin: 0 0.25em; line-height: 1; border-radius: 0.35em;\">\n",
       "    4\n",
       "    <span style=\"font-size: 0.8em; font-weight: bold; line-height: 1; border-radius: 0.35em; vertical-align: middle; margin-left: 0.5rem\">CARDINAL</span>\n",
       "</mark>\n",
       "). \\n']</div></span>"
      ],
      "text/plain": [
       "<IPython.core.display.HTML object>"
      ]
     },
     "metadata": {},
     "output_type": "display_data"
    }
   ],
   "source": [
    "displacy.render(doc_num,style='ent')"
   ]
  },
  {
   "cell_type": "code",
   "execution_count": 142,
   "metadata": {},
   "outputs": [
    {
     "name": "stdout",
     "output_type": "stream",
     "text": [
      "[ \" Hi , i 'm Isaac , i 'm going to be writing about how this face on LOC is a natural landform or if there is life on LOC that made it . The story is about how ORG took a picture of LOC and a face was seen on the planet . ORG does n't know if the landform was created by life on LOC , or if it is just a natural landform . \" , \" On my perspective , I think that the face is a natural landform because I do nt think that there is any life on LOC . In these next few paragraphs , I 'll be talking about how I think that is is a natural landform \" , ' I think that the face is a natural landform because there is no life on LOC that we have descovered yet ' , ' If life was on LOC , we would know by now . The reason why I think it is a natural landform because , nobody live on LOC in order to create the figure . It says in LAW LAW , \" It\\ 's not easy to target GPE , \" in which he is saying that its not easy to know if it is a natural landform at this point . In all that they\\'re saying , its probably a natural landform . ' , ' People thought that the face was formed by alieans because they thought that there was life on LOC . ' , ' though some say that life on LOC does exist , I think that there is no life on LOC . ' , ' It says in LAW LAW , on DATE DATE DATE DATE , ORG ORG ORG flew over GPE for the ORDINAL time . PERSON PERSON took a picture of LOC with his ORG ORG , that the face was a natural landform . ' , \" Everyone who thought it was made by alieans even though it was n't , was not satisfied . I think they were not satisfied because they have thought since DATE that it was really formed by alieans . \" , \" Though people were not satified about how the landform was a natural landform , in all , we new that alieans did not form the face . I would like to know how the landform was formed . we know now that life on LOC does n't exist . \" , ' Limiting the usage of cars has personal and professional support all across the globe and yet it has yet to be embraced everywhere . Statistical proof show where it may help and real life examples of some of the effects of reducing , or getting rid of altogether , cars in ORG 's DATE life . While \" recent studies suggest that NORP are buying fewer cars , driving less and getting fewer licenses as DATE DATE goes by \" ( Source CARDINAL ) , is that really enough or for the right reason ? There are plenty of reasons to stop , or limit , the amount of cars being driven on the roads for every kind of person , from the hippie to the businessman , from the mom to the college student . ' , ' With so many things in this world that few people agree on , this is a nice change to see in regards the removal of so many cars . Why would they all agree , one might ask . Well , there are plenty of reasons . \\n ' , ' stress . ' , ' It is no secret TIME TIME traffic jams and CARDINAL traffic is often enough to send any driver into a fit of unadulterated rage and what better way is there to prevent that than to simply not drive at all ? Mother and media trainer , PERSON PERSON attested to this after moving into a mostly car - less community , claiming \" when [ she ] had a car [ she ] was always tense . [ She\\ 's ] much happier [ that ] way \" ( Source CARDINAL ) . If that were not enough , businessman PERSON PERSON PERSON who participated in the Day Without Cars in GPE , GPE , after DATE DATE DATE was able to say \" it\\ 's a good oppurtunity to take away stress \" ( Source CARDINAL ) . Just one day was enough to de - stress this man and if that does not speak wonders , one has to wonder what does . The event \" [ left ] the streets of [ GPE ] eerily devoid of traffic jams \" ( Source CARDINAL ) , which goes to show how stressful it was everyday , with traffic jams a common occurance . No one enjoys them , so why continue to suffer through them ? ' , ' the environment suffers greatly from the many car emissions let out on the roads . ' , ' \" Passenger cars are responsible for PERCENT PERCENT of greenhouse gas emissions in LOC ... and PERCENT PERCENT PERCENT PERCENT in some car - intensive areas in GPE GPE GPE \" ( Source CARDINAL ) . This alone should be enough to horrify anyone out of such copious amounts of car usage . If that were not enough , \" transportation is the ORDINAL largest source of GPE 's emissions \" ( Source CARDINAL ) . It is clear that cars are only doing more harm to this earth all humans live on and happen to only have one of , so there is no need to continue on knowing this without changing something about that . Even car - pooling could significantly reduce emissions as there would be less cars out there , which is possible through \" more flexible commuting arrangements , including the evolution of shared van services for getting to work \" ( Source CARDINAL ) . \\n ' ]\n"
     ]
    }
   ],
   "source": [
    "print(\" \".join([t.text if not t.ent_type_ else t.ent_type_ for t in doc_num]) )"
   ]
  },
  {
   "cell_type": "code",
   "execution_count": 155,
   "metadata": {},
   "outputs": [
    {
     "ename": "AttributeError",
     "evalue": "'spacy.tokens.doc.Doc' object has no attribute 'token'",
     "output_type": "error",
     "traceback": [
      "\u001b[1;31m---------------------------------------------------------------------------\u001b[0m",
      "\u001b[1;31mAttributeError\u001b[0m                            Traceback (most recent call last)",
      "\u001b[1;32mc:\\Automation\\python\\nlp_feedback_predict\\Preprocessing.ipynb Cell 18\u001b[0m in \u001b[0;36m<cell line: 1>\u001b[1;34m()\u001b[0m\n\u001b[1;32m----> <a href='vscode-notebook-cell:/c%3A/Automation/python/nlp_feedback_predict/Preprocessing.ipynb#ch0000040?line=0'>1</a>\u001b[0m doc_num\u001b[39m.\u001b[39;49mtoken\n",
      "\u001b[1;31mAttributeError\u001b[0m: 'spacy.tokens.doc.Doc' object has no attribute 'token'"
     ]
    }
   ],
   "source": [
    "doc_num.token"
   ]
  },
  {
   "cell_type": "code",
   "execution_count": 102,
   "metadata": {},
   "outputs": [
    {
     "name": "stdout",
     "output_type": "stream",
     "text": [
      "[\"Hi, i'm Isaac, i'm going to be writing about how this face on Mars is a natural landform or if there is life on Mars that made it. The story is about how NASA took a picture of Mars and a face was seen on the planet. NASA doesn't know if the landform was created by life on Mars, or if it is just a natural landform. \", \"On my perspective, I think that the face is a natural landform because I dont think that there is any life on Mars. In these next few paragraphs, I'll be talking about how I think that is is a natural landform \", 'I think that the face is a natural landform because there is no life on Mars that we have descovered yet ', 'If life was on Mars, we would know by now. The reason why I think it is a natural landform because, nobody live on Mars in order to create the figure. It says in paragraph 9, \"It\\'s not easy to target Cydonia,\" in which he is saying that its not easy to know if it is a natural landform at this point. In all that they\\'re saying, its probably a natural landform. ', 'People thought that the face was formed by alieans because they thought that there was life on Mars. ', 'though some say that life on Mars does exist, I think that there is no life on Mars. ', 'It says in paragraph 7, on April 5, 1998, Mars Global Surveyor flew over Cydonia for the first time. Michael Malin took a picture of Mars with his Orbiter Camera, that the face was a natural landform. ']\n"
     ]
    }
   ],
   "source": [
    "print([x for x in train_df['discourse_text'][:7]])"
   ]
  },
  {
   "cell_type": "code",
   "execution_count": 39,
   "metadata": {},
   "outputs": [],
   "source": [
    "_VOCAB = [b\"[UNK]\", b\"[MASK]\", b\"[RANDOM]\", b\"[CLS]\", b\"[SEP]\",b\"[END]\"]\n",
    "\n",
    "_START_TOKEN = _VOCAB.index(b'[CLS]')\n",
    "_END_TOKEN = _VOCAB.index(b'[END]')\n",
    "_MASK_TOKEN = _VOCAB.index(b'[MASK]')\n",
    "_RANDOM_TOKEN = _VOCAB.index(b'[RANDOM]')\n",
    "_SEP_TOKEN = _VOCAB.index(b'[SEP]')\n",
    "_UNKNOWN_TOKEN = _VOCAB.index(b'[UNK]')\n",
    "\n",
    "_VOCAB_SIZE = len(_VOCAB)\n",
    "\n",
    "lookuptable = tf.lookup.StaticVocabularyTable(\n",
    "                tf.lookup.KeyValueTensorInitializer(\n",
    "                    keys = _VOCAB,\n",
    "                    key_dtype=tf.string,\n",
    "                    values=tf.range(_VOCAB_SIZE,dtype=tf.int64),\n",
    "                    value_dtype=tf.int64\n",
    "                ),\n",
    "                num_oov_buckets=1\n",
    ")\n"
   ]
  },
  {
   "cell_type": "code",
   "execution_count": 40,
   "metadata": {},
   "outputs": [
    {
     "data": {
      "text/plain": [
       "\"Hi, i'm Isaac, i'm going to be writing about how this face on Mars is a natural landform or if there is life on Mars that made it. The story is about how NASA took a picture of Mars and a face was seen on the planet. NASA doesn't know if the landform was created by life on Mars, or if it is just a natural landform. \""
      ]
     },
     "execution_count": 40,
     "metadata": {},
     "output_type": "execute_result"
    }
   ],
   "source": [
    "train_df['discourse_text'][0]"
   ]
  },
  {
   "cell_type": "code",
   "execution_count": 41,
   "metadata": {},
   "outputs": [
    {
     "data": {
      "text/plain": [
       "<tf.RaggedTensor [[[b'[UNK]'],\n",
       "  [b'[UNK]'],\n",
       "  [b'[UNK]'],\n",
       "  [b'[UNK]'],\n",
       "  [b'[UNK]'],\n",
       "  [b'[UNK]'],\n",
       "  [b'[UNK]'],\n",
       "  [b'[UNK]'],\n",
       "  [b'[UNK]'],\n",
       "  [b'[UNK]'],\n",
       "  [b'[UNK]'],\n",
       "  [b'[UNK]'],\n",
       "  [b'[UNK]'],\n",
       "  [b'[UNK]'],\n",
       "  [b'[UNK]'],\n",
       "  [b'[UNK]'],\n",
       "  [b'[UNK]'],\n",
       "  [b'[UNK]'],\n",
       "  [b'[UNK]'],\n",
       "  [b'[UNK]'],\n",
       "  [b'[UNK]'],\n",
       "  [b'[UNK]'],\n",
       "  [b'[UNK]'],\n",
       "  [b'[UNK]'],\n",
       "  [b'[UNK]'],\n",
       "  [b'[UNK]'],\n",
       "  [b'[UNK]'],\n",
       "  [b'[UNK]'],\n",
       "  [b'[UNK]'],\n",
       "  [b'[UNK]'],\n",
       "  [b'[UNK]'],\n",
       "  [b'[UNK]'],\n",
       "  [b'[UNK]'],\n",
       "  [b'[UNK]'],\n",
       "  [b'[UNK]'],\n",
       "  [b'[UNK]'],\n",
       "  [b'[UNK]'],\n",
       "  [b'[UNK]'],\n",
       "  [b'[UNK]'],\n",
       "  [b'[UNK]'],\n",
       "  [b'[UNK]'],\n",
       "  [b'[UNK]'],\n",
       "  [b'[UNK]'],\n",
       "  [b'[UNK]'],\n",
       "  [b'[UNK]'],\n",
       "  [b'[UNK]'],\n",
       "  [b'[UNK]'],\n",
       "  [b'[UNK]'],\n",
       "  [b'[UNK]'],\n",
       "  [b'[UNK]'],\n",
       "  [b'[UNK]'],\n",
       "  [b'[UNK]'],\n",
       "  [b'[UNK]'],\n",
       "  [b'[UNK]'],\n",
       "  [b'[UNK]'],\n",
       "  [b'[UNK]'],\n",
       "  [b'[UNK]'],\n",
       "  [b'[UNK]'],\n",
       "  [b'[UNK]'],\n",
       "  [b'[UNK]'],\n",
       "  [b'[UNK]'],\n",
       "  [b'[UNK]'],\n",
       "  [b'[UNK]'],\n",
       "  [b'[UNK]'],\n",
       "  [b'[UNK]'],\n",
       "  [b'[UNK]'],\n",
       "  [b'[UNK]'],\n",
       "  [b'[UNK]'],\n",
       "  [b'[UNK]'],\n",
       "  [b'[UNK]'],\n",
       "  [b'[UNK]'],\n",
       "  [b'[UNK]'],\n",
       "  [b'[UNK]'],\n",
       "  [b'[UNK]'],\n",
       "  [b'[UNK]'],\n",
       "  [b'[UNK]'],\n",
       "  [b'[UNK]'],\n",
       "  [b'[UNK]'],\n",
       "  [b'[UNK]']]]>"
      ]
     },
     "execution_count": 41,
     "metadata": {},
     "output_type": "execute_result"
    }
   ],
   "source": [
    "text_tokenzier = text.BertTokenizer(lookuptable,token_out_type=tf.string)\n",
    "text_tokenzier.tokenize(\"Hi, i'm Isaac, i'm going to be writing about how this face on Mars is a natural landform or if there is life on Mars that made it. The story is about how NASA took a picture of Mars and a face was seen on the planet. NASA doesn't know if the landform was created by life on Mars, or if it is just a natural landform. \")"
   ]
  },
  {
   "cell_type": "code",
   "execution_count": 68,
   "metadata": {},
   "outputs": [],
   "source": [
    "text_input = tf.keras.layers.Input(shape=(), dtype=tf.string)\n",
    "preprocessor = hub.KerasLayer(\n",
    "    \"https://tfhub.dev/tensorflow/bert_en_uncased_preprocess/3\")\n"
   ]
  },
  {
   "cell_type": "code",
   "execution_count": 43,
   "metadata": {},
   "outputs": [],
   "source": [
    "encoder_inputs = preprocessor([train_df['discourse_text'][0]])"
   ]
  },
  {
   "cell_type": "code",
   "execution_count": 51,
   "metadata": {},
   "outputs": [
    {
     "data": {
      "text/plain": [
       "{'input_word_ids': <tf.Tensor: shape=(1, 128), dtype=int32, numpy=\n",
       " array([[  101,  7632,  1010,  1045,  1005,  1049,  7527,  1010,  1045,\n",
       "          1005,  1049,  2183,  2000,  2022,  3015,  2055,  2129,  2023,\n",
       "          2227,  2006,  7733,  2003,  1037,  3019,  2455, 14192,  2030,\n",
       "          2065,  2045,  2003,  2166,  2006,  7733,  2008,  2081,  2009,\n",
       "          1012,  1996,  2466,  2003,  2055,  2129,  9274,  2165,  1037,\n",
       "          3861,  1997,  7733,  1998,  1037,  2227,  2001,  2464,  2006,\n",
       "          1996,  4774,  1012,  9274,  2987,  1005,  1056,  2113,  2065,\n",
       "          1996,  2455, 14192,  2001,  2580,  2011,  2166,  2006,  7733,\n",
       "          1010,  2030,  2065,  2009,  2003,  2074,  1037,  3019,  2455,\n",
       "         14192,  1012,   102,     0,     0,     0,     0,     0,     0,\n",
       "             0,     0,     0,     0,     0,     0,     0,     0,     0,\n",
       "             0,     0,     0,     0,     0,     0,     0,     0,     0,\n",
       "             0,     0,     0,     0,     0,     0,     0,     0,     0,\n",
       "             0,     0,     0,     0,     0,     0,     0,     0,     0,\n",
       "             0,     0]])>,\n",
       " 'input_type_ids': <tf.Tensor: shape=(1, 128), dtype=int32, numpy=\n",
       " array([[0, 0, 0, 0, 0, 0, 0, 0, 0, 0, 0, 0, 0, 0, 0, 0, 0, 0, 0, 0, 0, 0,\n",
       "         0, 0, 0, 0, 0, 0, 0, 0, 0, 0, 0, 0, 0, 0, 0, 0, 0, 0, 0, 0, 0, 0,\n",
       "         0, 0, 0, 0, 0, 0, 0, 0, 0, 0, 0, 0, 0, 0, 0, 0, 0, 0, 0, 0, 0, 0,\n",
       "         0, 0, 0, 0, 0, 0, 0, 0, 0, 0, 0, 0, 0, 0, 0, 0, 0, 0, 0, 0, 0, 0,\n",
       "         0, 0, 0, 0, 0, 0, 0, 0, 0, 0, 0, 0, 0, 0, 0, 0, 0, 0, 0, 0, 0, 0,\n",
       "         0, 0, 0, 0, 0, 0, 0, 0, 0, 0, 0, 0, 0, 0, 0, 0, 0, 0]])>,\n",
       " 'input_mask': <tf.Tensor: shape=(1, 128), dtype=int32, numpy=\n",
       " array([[1, 1, 1, 1, 1, 1, 1, 1, 1, 1, 1, 1, 1, 1, 1, 1, 1, 1, 1, 1, 1, 1,\n",
       "         1, 1, 1, 1, 1, 1, 1, 1, 1, 1, 1, 1, 1, 1, 1, 1, 1, 1, 1, 1, 1, 1,\n",
       "         1, 1, 1, 1, 1, 1, 1, 1, 1, 1, 1, 1, 1, 1, 1, 1, 1, 1, 1, 1, 1, 1,\n",
       "         1, 1, 1, 1, 1, 1, 1, 1, 1, 1, 1, 1, 1, 1, 1, 1, 1, 1, 0, 0, 0, 0,\n",
       "         0, 0, 0, 0, 0, 0, 0, 0, 0, 0, 0, 0, 0, 0, 0, 0, 0, 0, 0, 0, 0, 0,\n",
       "         0, 0, 0, 0, 0, 0, 0, 0, 0, 0, 0, 0, 0, 0, 0, 0, 0, 0]])>}"
      ]
     },
     "execution_count": 51,
     "metadata": {},
     "output_type": "execute_result"
    }
   ],
   "source": [
    "encoder_inputs"
   ]
  },
  {
   "cell_type": "code",
   "execution_count": 44,
   "metadata": {},
   "outputs": [],
   "source": [
    "encoder = hub.KerasLayer(\"https://tfhub.dev/tensorflow/bert_en_uncased_L-12_H-768_A-12/4\",trainable=True)\n",
    "outputs = encoder(encoder_inputs)"
   ]
  },
  {
   "cell_type": "code",
   "execution_count": 45,
   "metadata": {},
   "outputs": [],
   "source": [
    "pooled_output = outputs['pooled_output']"
   ]
  },
  {
   "cell_type": "code",
   "execution_count": 69,
   "metadata": {},
   "outputs": [
    {
     "ename": "ValueError",
     "evalue": "Output tensors of a Functional model must be the output of a TensorFlow `Layer` (thus holding past layer metadata). Found: [-1.6388502e+00  9.8170102e-01 -3.5083053e+00 -1.4603213e+00\n  2.5865364e+00 -6.5126456e-02  3.0316040e-01  4.1716142e+00\n  1.3215761e-01  7.6925611e-01  6.2784634e+00  1.9529140e+00\n -2.8802567e+00  1.0653728e+00  2.5061550e+00  9.2077428e-01\n  1.9302834e+00 -1.1735537e+00 -5.7096797e-01 -2.2701375e+00\n  2.4995437e+00 -9.7327185e-01 -1.5777076e+00 -1.0989767e+00\n -9.2450380e-01 -2.3687189e+00 -1.3157930e+00 -2.1876419e+00\n -1.2413212e+00  1.6353768e+00 -7.3108107e-01 -1.3623276e+00\n -1.8963171e+00 -1.0639617e+00 -1.5508072e+00 -4.5057386e-01\n -5.6444073e-01  1.4443216e+00  3.4425600e+00  1.4573760e+00\n -6.5039366e-01  3.1811258e-01  9.4922084e-01 -7.9766989e-01\n -9.8454535e-01  2.4077947e+00  2.1995032e+00 -4.0448079e+00\n -9.2925215e-01  2.2726848e+00 -1.7401269e-01  5.2170229e-01\n  4.3472964e-01 -4.4175196e+00 -1.7052845e+00 -1.8668878e-01\n  1.6842152e+00  1.8334684e+00  1.9559307e-02  1.0533800e+00\n  1.6240237e+00 -5.1595324e-01 -1.0556552e+00 -1.8572745e+00\n -4.4830614e-01  1.2938776e+00 -2.6437109e+00 -3.9279304e+00\n  6.7561090e-01  3.3770020e+00 -1.2377387e+00  6.3179296e-01\n -3.0890808e+00 -9.2200398e-01 -7.5395477e-01  1.4635874e+00\n -2.6328647e+00  5.8671838e-01 -3.1122048e+00 -1.4853683e+00\n -3.5925019e+00 -9.0457928e-01  2.6442163e+00  7.3590726e-01\n  1.6794238e+00 -3.2729104e-01 -1.7280924e-01 -2.1610258e+00\n  2.0986254e+00 -1.4968735e+00 -1.1144214e+00 -2.0745757e+00\n  2.4610586e+00 -5.3111992e+00  6.6212231e-01 -2.6543918e+00\n  1.2785629e+00 -1.1522425e+00 -1.0213540e-01 -9.0020829e-01\n  2.2124939e+00  1.2656025e+00  1.7484128e+00  2.4436119e+00\n -5.1200920e-01  3.9480648e+00  3.5562128e-01 -1.0096823e+00\n -1.2655197e+00 -1.3710920e+00  4.8538360e-01  1.0193845e+00\n -6.8567353e-01  1.5078901e+00  1.1484847e+00  1.1693500e+00\n -1.9256405e+00 -8.6966836e-01  2.0926356e-01 -1.5142665e+00\n -1.6797714e+00 -2.8695924e+00 -4.1191903e-01  1.9779531e+00\n -1.5834309e+00 -3.6900871e+00  1.5921605e+00 -1.4703733e+00\n  2.0056138e+00 -1.2378743e+00 -2.1566374e+00  3.4771997e-01\n  2.8722532e+00 -3.0759056e+00 -3.9849904e-01  8.1287807e-01\n -1.0720620e+00 -1.5841624e+00  4.3312273e+00 -2.4475791e+00\n -1.7784846e+00 -1.2929100e+00  8.7318581e-01  1.7913809e+00\n  7.3232859e-01  6.6992486e-01 -3.7304037e+00  2.6036674e-01\n  7.4065693e-02  9.6584308e-01 -1.1477481e+00  3.0739110e+00\n -5.9495438e-02 -8.1894077e-02 -7.4207342e-01  1.5691304e+00\n  3.0630310e+00  7.4038243e-01 -9.9650455e-01 -5.5160624e-01\n -1.3176674e+00 -3.2868459e+00 -8.1009310e-01  3.2517961e-01\n -2.6843810e+00 -9.0371686e-01 -3.4887893e+00  3.0896013e+00\n -9.3788320e-01  1.1897588e-01  9.6492255e-01 -8.9322871e-01\n  1.9874659e+00  1.5735323e+00  1.2174255e+00 -1.6569481e+00\n -9.5430487e-01 -2.6639646e-01 -2.9983237e+00 -2.1904733e+00\n -3.8639185e-01  6.2347645e-01  3.7714205e+00 -1.0601476e+00\n -1.0001069e+00  8.8191777e-01 -1.4612850e+00 -1.5596120e+00\n  1.3283343e+00  2.1000891e+00 -1.1779108e+00 -7.5683695e-01\n -1.7087047e+00 -7.1810716e-01 -6.1134970e-01 -2.4914935e-01\n -2.0177565e+00  7.2806549e-01  5.8099061e-01  1.4585537e+00\n -2.2939477e+00 -1.5291135e+00 -1.5099289e+00 -3.2321315e+00\n  6.1497670e-01  2.3320947e+00 -3.6664815e+00  6.2144011e-01\n -1.7255962e+00 -1.7187570e+00  2.2244904e+00  3.1124595e-01\n -1.9233246e+00  2.9262867e+00 -6.4434284e-01  6.5985173e-01\n  3.7461834e-03 -2.1112857e+00 -2.0878343e-01  1.0766115e+00\n -2.4515038e+00 -1.2157291e+00  6.6348791e-01  6.9953376e-01\n -5.6131536e-01 -1.6413348e+00  1.0857105e+00  1.4758211e+00\n  2.8117948e+00 -5.8064111e-02  1.6607553e-01 -4.7130775e+00\n -3.7049344e-01  1.3344603e+00  3.2366285e-01  1.0987030e+00\n -1.6346524e+00  1.1686294e+00  2.3944382e-01 -7.4882221e-01\n -1.4736948e+00 -3.0995882e-01  2.0879261e+00  3.3721754e-01\n -1.7368939e+00 -6.8033016e-01 -2.5193825e+00  1.2684470e+00\n  1.2490822e+00  2.9506516e+00 -1.3877697e-01 -6.4308608e-01\n -5.3445492e+00 -6.6599011e-01  1.7340769e-01 -3.0730164e+00\n  1.4694253e+00  1.5803531e+00 -7.4518591e-02  1.3910463e+00\n  2.6198113e-01  5.9126120e+00  4.1149664e+00  3.7905061e+00\n  6.1283034e-01 -1.8621488e-01  4.1750160e-01  2.4414737e+00\n -4.9565382e+00  1.5875116e-01  1.8287042e+00 -1.5839664e+00\n -5.1569861e-01 -2.1890948e+00  6.2454796e-01  1.0140430e-01\n  2.9440637e+00 -3.1108832e-01 -1.0851415e+00  1.9169365e+00\n  1.4631879e-01 -5.2558589e-01  1.0758524e+00  1.8683195e+00\n  4.1380458e+00 -6.2021714e-01  9.9774951e-01  1.1183604e+00\n -1.9896706e+00  1.4364551e+00  1.7458793e+00 -9.9778289e-01\n  1.3292212e+00  2.3253212e-02 -1.7088943e+00  5.1940012e-01\n  1.2845680e+00 -2.0319632e-01 -3.2012630e+00  1.5914700e+00]",
     "output_type": "error",
     "traceback": [
      "\u001b[1;31m---------------------------------------------------------------------------\u001b[0m",
      "\u001b[1;31mValueError\u001b[0m                                Traceback (most recent call last)",
      "\u001b[1;32mc:\\Automation\\python\\nlp_feedback_predict\\Preprocessing.ipynb Cell 22\u001b[0m in \u001b[0;36m<cell line: 1>\u001b[1;34m()\u001b[0m\n\u001b[1;32m----> <a href='vscode-notebook-cell:/c%3A/Automation/python/nlp_feedback_predict/Preprocessing.ipynb#ch0000011?line=0'>1</a>\u001b[0m embedding_model \u001b[39m=\u001b[39m tf\u001b[39m.\u001b[39;49mkeras\u001b[39m.\u001b[39;49mModel(text_input, doc\u001b[39m.\u001b[39;49mvector)\n\u001b[0;32m      <a href='vscode-notebook-cell:/c%3A/Automation/python/nlp_feedback_predict/Preprocessing.ipynb#ch0000011?line=1'>2</a>\u001b[0m sentences \u001b[39m=\u001b[39m tf\u001b[39m.\u001b[39mconstant([\u001b[39m\"\u001b[39m\u001b[39mBasha\u001b[39m\u001b[39m\"\u001b[39m])\n\u001b[0;32m      <a href='vscode-notebook-cell:/c%3A/Automation/python/nlp_feedback_predict/Preprocessing.ipynb#ch0000011?line=2'>3</a>\u001b[0m \u001b[39mprint\u001b[39m(embedding_model(sentences))\n",
      "File \u001b[1;32m~\\AppData\\Roaming\\Python\\Python310\\site-packages\\tensorflow\\python\\training\\tracking\\base.py:587\u001b[0m, in \u001b[0;36mno_automatic_dependency_tracking.<locals>._method_wrapper\u001b[1;34m(self, *args, **kwargs)\u001b[0m\n\u001b[0;32m    585\u001b[0m \u001b[39mself\u001b[39m\u001b[39m.\u001b[39m_self_setattr_tracking \u001b[39m=\u001b[39m \u001b[39mFalse\u001b[39;00m  \u001b[39m# pylint: disable=protected-access\u001b[39;00m\n\u001b[0;32m    586\u001b[0m \u001b[39mtry\u001b[39;00m:\n\u001b[1;32m--> 587\u001b[0m   result \u001b[39m=\u001b[39m method(\u001b[39mself\u001b[39m, \u001b[39m*\u001b[39margs, \u001b[39m*\u001b[39m\u001b[39m*\u001b[39mkwargs)\n\u001b[0;32m    588\u001b[0m \u001b[39mfinally\u001b[39;00m:\n\u001b[0;32m    589\u001b[0m   \u001b[39mself\u001b[39m\u001b[39m.\u001b[39m_self_setattr_tracking \u001b[39m=\u001b[39m previous_value  \u001b[39m# pylint: disable=protected-access\u001b[39;00m\n",
      "File \u001b[1;32m~\\AppData\\Roaming\\Python\\Python310\\site-packages\\keras\\engine\\functional.py:148\u001b[0m, in \u001b[0;36mFunctional.__init__\u001b[1;34m(self, inputs, outputs, name, trainable, **kwargs)\u001b[0m\n\u001b[0;32m    145\u001b[0m   \u001b[39mif\u001b[39;00m \u001b[39mnot\u001b[39;00m \u001b[39mall\u001b[39m([functional_utils\u001b[39m.\u001b[39mis_input_keras_tensor(t)\n\u001b[0;32m    146\u001b[0m               \u001b[39mfor\u001b[39;00m t \u001b[39min\u001b[39;00m tf\u001b[39m.\u001b[39mnest\u001b[39m.\u001b[39mflatten(inputs)]):\n\u001b[0;32m    147\u001b[0m     inputs, outputs \u001b[39m=\u001b[39m functional_utils\u001b[39m.\u001b[39mclone_graph_nodes(inputs, outputs)\n\u001b[1;32m--> 148\u001b[0m \u001b[39mself\u001b[39;49m\u001b[39m.\u001b[39;49m_init_graph_network(inputs, outputs)\n",
      "File \u001b[1;32m~\\AppData\\Roaming\\Python\\Python310\\site-packages\\tensorflow\\python\\training\\tracking\\base.py:587\u001b[0m, in \u001b[0;36mno_automatic_dependency_tracking.<locals>._method_wrapper\u001b[1;34m(self, *args, **kwargs)\u001b[0m\n\u001b[0;32m    585\u001b[0m \u001b[39mself\u001b[39m\u001b[39m.\u001b[39m_self_setattr_tracking \u001b[39m=\u001b[39m \u001b[39mFalse\u001b[39;00m  \u001b[39m# pylint: disable=protected-access\u001b[39;00m\n\u001b[0;32m    586\u001b[0m \u001b[39mtry\u001b[39;00m:\n\u001b[1;32m--> 587\u001b[0m   result \u001b[39m=\u001b[39m method(\u001b[39mself\u001b[39m, \u001b[39m*\u001b[39margs, \u001b[39m*\u001b[39m\u001b[39m*\u001b[39mkwargs)\n\u001b[0;32m    588\u001b[0m \u001b[39mfinally\u001b[39;00m:\n\u001b[0;32m    589\u001b[0m   \u001b[39mself\u001b[39m\u001b[39m.\u001b[39m_self_setattr_tracking \u001b[39m=\u001b[39m previous_value  \u001b[39m# pylint: disable=protected-access\u001b[39;00m\n",
      "File \u001b[1;32m~\\AppData\\Roaming\\Python\\Python310\\site-packages\\keras\\engine\\functional.py:186\u001b[0m, in \u001b[0;36mFunctional._init_graph_network\u001b[1;34m(self, inputs, outputs)\u001b[0m\n\u001b[0;32m    183\u001b[0m   \u001b[39mif\u001b[39;00m \u001b[39many\u001b[39m(\u001b[39mnot\u001b[39;00m \u001b[39mhasattr\u001b[39m(tensor, \u001b[39m'\u001b[39m\u001b[39m_keras_history\u001b[39m\u001b[39m'\u001b[39m) \u001b[39mfor\u001b[39;00m tensor \u001b[39min\u001b[39;00m \u001b[39mself\u001b[39m\u001b[39m.\u001b[39moutputs):\n\u001b[0;32m    184\u001b[0m     base_layer_utils\u001b[39m.\u001b[39mcreate_keras_history(\u001b[39mself\u001b[39m\u001b[39m.\u001b[39m_nested_outputs)\n\u001b[1;32m--> 186\u001b[0m \u001b[39mself\u001b[39;49m\u001b[39m.\u001b[39;49m_validate_graph_inputs_and_outputs()\n\u001b[0;32m    188\u001b[0m \u001b[39m# A Network does not create weights of its own, thus it is already\u001b[39;00m\n\u001b[0;32m    189\u001b[0m \u001b[39m# built.\u001b[39;00m\n\u001b[0;32m    190\u001b[0m \u001b[39mself\u001b[39m\u001b[39m.\u001b[39mbuilt \u001b[39m=\u001b[39m \u001b[39mTrue\u001b[39;00m\n",
      "File \u001b[1;32m~\\AppData\\Roaming\\Python\\Python310\\site-packages\\keras\\engine\\functional.py:740\u001b[0m, in \u001b[0;36mFunctional._validate_graph_inputs_and_outputs\u001b[1;34m(self)\u001b[0m\n\u001b[0;32m    738\u001b[0m \u001b[39mif\u001b[39;00m \u001b[39mnot\u001b[39;00m \u001b[39mhasattr\u001b[39m(x, \u001b[39m'\u001b[39m\u001b[39m_keras_history\u001b[39m\u001b[39m'\u001b[39m):\n\u001b[0;32m    739\u001b[0m   cls_name \u001b[39m=\u001b[39m \u001b[39mself\u001b[39m\u001b[39m.\u001b[39m\u001b[39m__class__\u001b[39m\u001b[39m.\u001b[39m\u001b[39m__name__\u001b[39m\n\u001b[1;32m--> 740\u001b[0m   \u001b[39mraise\u001b[39;00m \u001b[39mValueError\u001b[39;00m(\u001b[39mf\u001b[39m\u001b[39m'\u001b[39m\u001b[39mOutput tensors of a \u001b[39m\u001b[39m{\u001b[39;00mcls_name\u001b[39m}\u001b[39;00m\u001b[39m model must be \u001b[39m\u001b[39m'\u001b[39m\n\u001b[0;32m    741\u001b[0m                    \u001b[39m'\u001b[39m\u001b[39mthe output of a TensorFlow `Layer` \u001b[39m\u001b[39m'\u001b[39m\n\u001b[0;32m    742\u001b[0m                    \u001b[39mf\u001b[39m\u001b[39m'\u001b[39m\u001b[39m(thus holding past layer metadata). Found: \u001b[39m\u001b[39m{\u001b[39;00mx\u001b[39m}\u001b[39;00m\u001b[39m'\u001b[39m)\n",
      "\u001b[1;31mValueError\u001b[0m: Output tensors of a Functional model must be the output of a TensorFlow `Layer` (thus holding past layer metadata). Found: [-1.6388502e+00  9.8170102e-01 -3.5083053e+00 -1.4603213e+00\n  2.5865364e+00 -6.5126456e-02  3.0316040e-01  4.1716142e+00\n  1.3215761e-01  7.6925611e-01  6.2784634e+00  1.9529140e+00\n -2.8802567e+00  1.0653728e+00  2.5061550e+00  9.2077428e-01\n  1.9302834e+00 -1.1735537e+00 -5.7096797e-01 -2.2701375e+00\n  2.4995437e+00 -9.7327185e-01 -1.5777076e+00 -1.0989767e+00\n -9.2450380e-01 -2.3687189e+00 -1.3157930e+00 -2.1876419e+00\n -1.2413212e+00  1.6353768e+00 -7.3108107e-01 -1.3623276e+00\n -1.8963171e+00 -1.0639617e+00 -1.5508072e+00 -4.5057386e-01\n -5.6444073e-01  1.4443216e+00  3.4425600e+00  1.4573760e+00\n -6.5039366e-01  3.1811258e-01  9.4922084e-01 -7.9766989e-01\n -9.8454535e-01  2.4077947e+00  2.1995032e+00 -4.0448079e+00\n -9.2925215e-01  2.2726848e+00 -1.7401269e-01  5.2170229e-01\n  4.3472964e-01 -4.4175196e+00 -1.7052845e+00 -1.8668878e-01\n  1.6842152e+00  1.8334684e+00  1.9559307e-02  1.0533800e+00\n  1.6240237e+00 -5.1595324e-01 -1.0556552e+00 -1.8572745e+00\n -4.4830614e-01  1.2938776e+00 -2.6437109e+00 -3.9279304e+00\n  6.7561090e-01  3.3770020e+00 -1.2377387e+00  6.3179296e-01\n -3.0890808e+00 -9.2200398e-01 -7.5395477e-01  1.4635874e+00\n -2.6328647e+00  5.8671838e-01 -3.1122048e+00 -1.4853683e+00\n -3.5925019e+00 -9.0457928e-01  2.6442163e+00  7.3590726e-01\n  1.6794238e+00 -3.2729104e-01 -1.7280924e-01 -2.1610258e+00\n  2.0986254e+00 -1.4968735e+00 -1.1144214e+00 -2.0745757e+00\n  2.4610586e+00 -5.3111992e+00  6.6212231e-01 -2.6543918e+00\n  1.2785629e+00 -1.1522425e+00 -1.0213540e-01 -9.0020829e-01\n  2.2124939e+00  1.2656025e+00  1.7484128e+00  2.4436119e+00\n -5.1200920e-01  3.9480648e+00  3.5562128e-01 -1.0096823e+00\n -1.2655197e+00 -1.3710920e+00  4.8538360e-01  1.0193845e+00\n -6.8567353e-01  1.5078901e+00  1.1484847e+00  1.1693500e+00\n -1.9256405e+00 -8.6966836e-01  2.0926356e-01 -1.5142665e+00\n -1.6797714e+00 -2.8695924e+00 -4.1191903e-01  1.9779531e+00\n -1.5834309e+00 -3.6900871e+00  1.5921605e+00 -1.4703733e+00\n  2.0056138e+00 -1.2378743e+00 -2.1566374e+00  3.4771997e-01\n  2.8722532e+00 -3.0759056e+00 -3.9849904e-01  8.1287807e-01\n -1.0720620e+00 -1.5841624e+00  4.3312273e+00 -2.4475791e+00\n -1.7784846e+00 -1.2929100e+00  8.7318581e-01  1.7913809e+00\n  7.3232859e-01  6.6992486e-01 -3.7304037e+00  2.6036674e-01\n  7.4065693e-02  9.6584308e-01 -1.1477481e+00  3.0739110e+00\n -5.9495438e-02 -8.1894077e-02 -7.4207342e-01  1.5691304e+00\n  3.0630310e+00  7.4038243e-01 -9.9650455e-01 -5.5160624e-01\n -1.3176674e+00 -3.2868459e+00 -8.1009310e-01  3.2517961e-01\n -2.6843810e+00 -9.0371686e-01 -3.4887893e+00  3.0896013e+00\n -9.3788320e-01  1.1897588e-01  9.6492255e-01 -8.9322871e-01\n  1.9874659e+00  1.5735323e+00  1.2174255e+00 -1.6569481e+00\n -9.5430487e-01 -2.6639646e-01 -2.9983237e+00 -2.1904733e+00\n -3.8639185e-01  6.2347645e-01  3.7714205e+00 -1.0601476e+00\n -1.0001069e+00  8.8191777e-01 -1.4612850e+00 -1.5596120e+00\n  1.3283343e+00  2.1000891e+00 -1.1779108e+00 -7.5683695e-01\n -1.7087047e+00 -7.1810716e-01 -6.1134970e-01 -2.4914935e-01\n -2.0177565e+00  7.2806549e-01  5.8099061e-01  1.4585537e+00\n -2.2939477e+00 -1.5291135e+00 -1.5099289e+00 -3.2321315e+00\n  6.1497670e-01  2.3320947e+00 -3.6664815e+00  6.2144011e-01\n -1.7255962e+00 -1.7187570e+00  2.2244904e+00  3.1124595e-01\n -1.9233246e+00  2.9262867e+00 -6.4434284e-01  6.5985173e-01\n  3.7461834e-03 -2.1112857e+00 -2.0878343e-01  1.0766115e+00\n -2.4515038e+00 -1.2157291e+00  6.6348791e-01  6.9953376e-01\n -5.6131536e-01 -1.6413348e+00  1.0857105e+00  1.4758211e+00\n  2.8117948e+00 -5.8064111e-02  1.6607553e-01 -4.7130775e+00\n -3.7049344e-01  1.3344603e+00  3.2366285e-01  1.0987030e+00\n -1.6346524e+00  1.1686294e+00  2.3944382e-01 -7.4882221e-01\n -1.4736948e+00 -3.0995882e-01  2.0879261e+00  3.3721754e-01\n -1.7368939e+00 -6.8033016e-01 -2.5193825e+00  1.2684470e+00\n  1.2490822e+00  2.9506516e+00 -1.3877697e-01 -6.4308608e-01\n -5.3445492e+00 -6.6599011e-01  1.7340769e-01 -3.0730164e+00\n  1.4694253e+00  1.5803531e+00 -7.4518591e-02  1.3910463e+00\n  2.6198113e-01  5.9126120e+00  4.1149664e+00  3.7905061e+00\n  6.1283034e-01 -1.8621488e-01  4.1750160e-01  2.4414737e+00\n -4.9565382e+00  1.5875116e-01  1.8287042e+00 -1.5839664e+00\n -5.1569861e-01 -2.1890948e+00  6.2454796e-01  1.0140430e-01\n  2.9440637e+00 -3.1108832e-01 -1.0851415e+00  1.9169365e+00\n  1.4631879e-01 -5.2558589e-01  1.0758524e+00  1.8683195e+00\n  4.1380458e+00 -6.2021714e-01  9.9774951e-01  1.1183604e+00\n -1.9896706e+00  1.4364551e+00  1.7458793e+00 -9.9778289e-01\n  1.3292212e+00  2.3253212e-02 -1.7088943e+00  5.1940012e-01\n  1.2845680e+00 -2.0319632e-01 -3.2012630e+00  1.5914700e+00]"
     ]
    }
   ],
   "source": [
    "embedding_model = tf.keras.Model(text_input, doc.vector)\n",
    "sentences = tf.constant([\"Basha\"])\n",
    "print(embedding_model(sentences))"
   ]
  },
  {
   "cell_type": "code",
   "execution_count": 23,
   "metadata": {},
   "outputs": [
    {
     "data": {
      "text/plain": [
       "{'input_word_ids': <tf.Tensor: shape=(1, 128), dtype=int32, numpy=\n",
       " array([[  101,  7632,  1010,  1045,  1005,  1049,  7527,  1010,  1045,\n",
       "          1005,  1049,  2183,  2000,  2022,  3015,  2055,  2129,  2023,\n",
       "          2227,  2006,  7733,  2003,  1037,  3019,  2455, 14192,  2030,\n",
       "          2065,  2045,  2003,  2166,  2006,  7733,  2008,  2081,  2009,\n",
       "          1012,  1996,  2466,  2003,  2055,  2129,  9274,  2165,  1037,\n",
       "          3861,  1997,  7733,  1998,  1037,  2227,  2001,  2464,  2006,\n",
       "          1996,  4774,  1012,  9274,  2987,  1005,  1056,  2113,  2065,\n",
       "          1996,  2455, 14192,  2001,  2580,  2011,  2166,  2006,  7733,\n",
       "          1010,  2030,  2065,  2009,  2003,  2074,  1037,  3019,  2455,\n",
       "         14192,  1012,   102,     0,     0,     0,     0,     0,     0,\n",
       "             0,     0,     0,     0,     0,     0,     0,     0,     0,\n",
       "             0,     0,     0,     0,     0,     0,     0,     0,     0,\n",
       "             0,     0,     0,     0,     0,     0,     0,     0,     0,\n",
       "             0,     0,     0,     0,     0,     0,     0,     0,     0,\n",
       "             0,     0]])>,\n",
       " 'input_type_ids': <tf.Tensor: shape=(1, 128), dtype=int32, numpy=\n",
       " array([[0, 0, 0, 0, 0, 0, 0, 0, 0, 0, 0, 0, 0, 0, 0, 0, 0, 0, 0, 0, 0, 0,\n",
       "         0, 0, 0, 0, 0, 0, 0, 0, 0, 0, 0, 0, 0, 0, 0, 0, 0, 0, 0, 0, 0, 0,\n",
       "         0, 0, 0, 0, 0, 0, 0, 0, 0, 0, 0, 0, 0, 0, 0, 0, 0, 0, 0, 0, 0, 0,\n",
       "         0, 0, 0, 0, 0, 0, 0, 0, 0, 0, 0, 0, 0, 0, 0, 0, 0, 0, 0, 0, 0, 0,\n",
       "         0, 0, 0, 0, 0, 0, 0, 0, 0, 0, 0, 0, 0, 0, 0, 0, 0, 0, 0, 0, 0, 0,\n",
       "         0, 0, 0, 0, 0, 0, 0, 0, 0, 0, 0, 0, 0, 0, 0, 0, 0, 0]])>,\n",
       " 'input_mask': <tf.Tensor: shape=(1, 128), dtype=int32, numpy=\n",
       " array([[1, 1, 1, 1, 1, 1, 1, 1, 1, 1, 1, 1, 1, 1, 1, 1, 1, 1, 1, 1, 1, 1,\n",
       "         1, 1, 1, 1, 1, 1, 1, 1, 1, 1, 1, 1, 1, 1, 1, 1, 1, 1, 1, 1, 1, 1,\n",
       "         1, 1, 1, 1, 1, 1, 1, 1, 1, 1, 1, 1, 1, 1, 1, 1, 1, 1, 1, 1, 1, 1,\n",
       "         1, 1, 1, 1, 1, 1, 1, 1, 1, 1, 1, 1, 1, 1, 1, 1, 1, 1, 0, 0, 0, 0,\n",
       "         0, 0, 0, 0, 0, 0, 0, 0, 0, 0, 0, 0, 0, 0, 0, 0, 0, 0, 0, 0, 0, 0,\n",
       "         0, 0, 0, 0, 0, 0, 0, 0, 0, 0, 0, 0, 0, 0, 0, 0, 0, 0]])>}"
      ]
     },
     "execution_count": 23,
     "metadata": {},
     "output_type": "execute_result"
    }
   ],
   "source": [
    "encoder_inputs"
   ]
  },
  {
   "cell_type": "code",
   "execution_count": 165,
   "metadata": {},
   "outputs": [
    {
     "data": {
      "text/html": [
       "<div>\n",
       "<style scoped>\n",
       "    .dataframe tbody tr th:only-of-type {\n",
       "        vertical-align: middle;\n",
       "    }\n",
       "\n",
       "    .dataframe tbody tr th {\n",
       "        vertical-align: top;\n",
       "    }\n",
       "\n",
       "    .dataframe thead th {\n",
       "        text-align: right;\n",
       "    }\n",
       "</style>\n",
       "<table border=\"1\" class=\"dataframe\">\n",
       "  <thead>\n",
       "    <tr style=\"text-align: right;\">\n",
       "      <th></th>\n",
       "      <th>discourse_id</th>\n",
       "      <th>essay_id</th>\n",
       "      <th>discourse_text</th>\n",
       "      <th>discourse_type</th>\n",
       "      <th>discourse_effectiveness</th>\n",
       "    </tr>\n",
       "  </thead>\n",
       "  <tbody>\n",
       "    <tr>\n",
       "      <th>0</th>\n",
       "      <td>0013cc385424</td>\n",
       "      <td>007ACE74B050</td>\n",
       "      <td>Hi, i'm Isaac, i'm going to be writing about h...</td>\n",
       "      <td>Lead</td>\n",
       "      <td>Adequate</td>\n",
       "    </tr>\n",
       "    <tr>\n",
       "      <th>1</th>\n",
       "      <td>9704a709b505</td>\n",
       "      <td>007ACE74B050</td>\n",
       "      <td>On my perspective, I think that the face is a ...</td>\n",
       "      <td>Position</td>\n",
       "      <td>Adequate</td>\n",
       "    </tr>\n",
       "    <tr>\n",
       "      <th>2</th>\n",
       "      <td>c22adee811b6</td>\n",
       "      <td>007ACE74B050</td>\n",
       "      <td>I think that the face is a natural landform be...</td>\n",
       "      <td>Claim</td>\n",
       "      <td>Adequate</td>\n",
       "    </tr>\n",
       "    <tr>\n",
       "      <th>3</th>\n",
       "      <td>a10d361e54e4</td>\n",
       "      <td>007ACE74B050</td>\n",
       "      <td>If life was on Mars, we would know by now. The...</td>\n",
       "      <td>Evidence</td>\n",
       "      <td>Adequate</td>\n",
       "    </tr>\n",
       "    <tr>\n",
       "      <th>4</th>\n",
       "      <td>db3e453ec4e2</td>\n",
       "      <td>007ACE74B050</td>\n",
       "      <td>People thought that the face was formed by ali...</td>\n",
       "      <td>Counterclaim</td>\n",
       "      <td>Adequate</td>\n",
       "    </tr>\n",
       "  </tbody>\n",
       "</table>\n",
       "</div>"
      ],
      "text/plain": [
       "   discourse_id      essay_id  \\\n",
       "0  0013cc385424  007ACE74B050   \n",
       "1  9704a709b505  007ACE74B050   \n",
       "2  c22adee811b6  007ACE74B050   \n",
       "3  a10d361e54e4  007ACE74B050   \n",
       "4  db3e453ec4e2  007ACE74B050   \n",
       "\n",
       "                                      discourse_text discourse_type  \\\n",
       "0  Hi, i'm Isaac, i'm going to be writing about h...           Lead   \n",
       "1  On my perspective, I think that the face is a ...       Position   \n",
       "2  I think that the face is a natural landform be...          Claim   \n",
       "3  If life was on Mars, we would know by now. The...       Evidence   \n",
       "4  People thought that the face was formed by ali...   Counterclaim   \n",
       "\n",
       "  discourse_effectiveness  \n",
       "0                Adequate  \n",
       "1                Adequate  \n",
       "2                Adequate  \n",
       "3                Adequate  \n",
       "4                Adequate  "
      ]
     },
     "execution_count": 165,
     "metadata": {},
     "output_type": "execute_result"
    }
   ],
   "source": [
    "train_df.head()"
   ]
  }
 ],
 "metadata": {
  "kernelspec": {
   "display_name": "Python 3.10.5 64-bit",
   "language": "python",
   "name": "python3"
  },
  "language_info": {
   "codemirror_mode": {
    "name": "ipython",
    "version": 3
   },
   "file_extension": ".py",
   "mimetype": "text/x-python",
   "name": "python",
   "nbconvert_exporter": "python",
   "pygments_lexer": "ipython3",
   "version": "3.10.5"
  },
  "orig_nbformat": 4,
  "vscode": {
   "interpreter": {
    "hash": "ccc9907020a360c0774b7240d7189d7caac06a5804f44f1a6c385a36278d3a41"
   }
  }
 },
 "nbformat": 4,
 "nbformat_minor": 2
}
